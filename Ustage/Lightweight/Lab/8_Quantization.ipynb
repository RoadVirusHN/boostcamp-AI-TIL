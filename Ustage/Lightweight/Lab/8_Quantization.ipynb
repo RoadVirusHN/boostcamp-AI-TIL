{
  "nbformat": 4,
  "nbformat_minor": 0,
  "metadata": {
    "accelerator": "GPU",
    "colab": {
      "name": "8. Quantization",
      "provenance": [],
      "collapsed_sections": []
    },
    "kernelspec": {
      "display_name": "Python 3",
      "name": "python3"
    }
  },
  "cells": [
    {
      "cell_type": "markdown",
      "metadata": {
        "id": "XnsfSHuo2GHH"
      },
      "source": [
        "## 주안점\n",
        "#### Quantization 전/후 model size & inference time 비교\n",
        "\n",
        "- [참고] https://medium.com/@sanjanasrinivas73/post-training-static-quantization-pytorch-37dd187ba105\n",
        "\n",
        "#### Quantized layer-wise histogram\n",
        "\n",
        "- [참고] https://pytorch.org/tutorials/prototype/numeric_suite_tutorial.html?highlight=transformer"
      ]
    },
    {
      "cell_type": "code",
      "metadata": {
        "id": "f5ti_Q1t1UBA"
      },
      "source": [
        "import os\n",
        "import time\n",
        "import matplotlib.pyplot as plt\n",
        "import torch\n",
        "from torch.utils.data import DataLoader\n",
        "import torch.nn as nn\n",
        "import torch.nn.functional as F\n",
        "import torchvision\n",
        "from torchvision import transforms"
      ],
      "execution_count": null,
      "outputs": []
    },
    {
      "cell_type": "markdown",
      "metadata": {
        "id": "S-GlYCKLrIk-"
      },
      "source": [
        "# 데이터 및 모델 준비\r\n",
        "먼저 프루닝을 수행하기 위한 간단한 모델을 생성하고 훈련시켜 봅시다.\r\n",
        "\r\n",
        "모델은 ResNet18, 데이터는 Mnist를 사용하겠습니다."
      ]
    },
    {
      "cell_type": "code",
      "metadata": {
        "id": "mTBFD_z61huR"
      },
      "source": [
        "train_loader = DataLoader(torchvision.datasets.MNIST('../data', train=True, download=True,\n",
        "                                                    transform=transforms.Compose([transforms.ToTensor(),\n",
        "                                                                        transforms.Normalize((0.1307,), (0.3081,))\n",
        "                                                    ])),\n",
        "               batch_size=64, shuffle=True, num_workers=1, pin_memory=True)\n",
        "\n",
        "test_loader = DataLoader(torchvision.datasets.MNIST('../data', train=False, \n",
        "                                                    transform=transforms.Compose([transforms.ToTensor(),\n",
        "                                                                        transforms.Normalize((0.1307,), (0.3081,))\n",
        "                                                    ])),\n",
        "              batch_size=64, shuffle=True, num_workers=1, pin_memory=True)"
      ],
      "execution_count": null,
      "outputs": []
    },
    {
      "cell_type": "code",
      "metadata": {
        "colab": {
          "base_uri": "https://localhost:8080/",
          "height": 133
        },
        "id": "A4jPEM5_1lOJ",
        "outputId": "17788d86-c8cf-4e23-c59d-3bf49152cbed"
      },
      "source": [
        "images, labels = next(iter(train_loader))\n",
        "\n",
        "print(images.shape)\n",
        "print(labels.shape)\n",
        "\n",
        "figure = plt.figure()\n",
        "num_of_images = 20\n",
        "for index in range(1, num_of_images + 1):\n",
        "    plt.subplot(6, 10, index)\n",
        "    plt.axis('off')\n",
        "    plt.imshow(images[index].numpy().squeeze(), cmap='gray_r')"
      ],
      "execution_count": null,
      "outputs": [
        {
          "output_type": "stream",
          "text": [
            "torch.Size([64, 1, 28, 28])\n",
            "torch.Size([64])\n"
          ],
          "name": "stdout"
        },
        {
          "output_type": "display_data",
          "data": {
            "image/png": "[encoded data removed]",
            "text/plain": [
              "<Figure size 432x288 with 20 Axes>"
            ]
          },
          "metadata": {
            "tags": [],
            "needs_background": "light"
          }
        }
      ]
    },
    {
      "cell_type": "code",
      "metadata": {
        "id": "yVNZoAqr1oAf"
      },
      "source": [
        "def conv3x3(in_planes, out_planes, stride=1, groups=1, dilation=1):\n",
        "    \"\"\"3x3 convolution with padding\n",
        "    \n",
        "    Args:\n",
        "        in_planes: number of channels in input image\n",
        "        out_planes: number of channels produced by convolution\n",
        "        stride: stride of the convolution. Default: 1\n",
        "        groups: Number of blocked connections from input channels to output channels. Default: 1\n",
        "        dilation (int or tuple, optional): Spacing between kernel elements. Default: 1\n",
        "        \n",
        "    Returns:\n",
        "        Convoluted layer of kernel size=3, with specified out_planes\n",
        "    \n",
        "    \"\"\"\n",
        "    return nn.Conv2d(in_planes, out_planes, kernel_size=3, stride=stride,\n",
        "                     padding=dilation, groups=groups, bias=False, dilation=dilation)\n",
        "\n",
        "\n",
        "def conv1x1(in_planes, out_planes, stride=1):\n",
        "    \"\"\"1x1 convolution\n",
        "    \n",
        "    Args:\n",
        "        in_planes: number of channels in input image\n",
        "        out_planes: number of channels produced by convolution\n",
        "        stride: stride of the convolution. Default: 1\n",
        "        \n",
        "    Returns:\n",
        "        Convoluted layer of kernel size=1, with specified out_planes\n",
        "        \n",
        "    \"\"\"\n",
        "    return nn.Conv2d(in_planes, out_planes, kernel_size=1, stride=stride, bias=False)"
      ],
      "execution_count": null,
      "outputs": []
    },
    {
      "cell_type": "code",
      "metadata": {
        "id": "Bd7E-2G01qjB"
      },
      "source": [
        "class BasicBlock(nn.Module):\n",
        "    expansion = 1\n",
        "\n",
        "    def __init__(self, inplanes, planes, stride=1, downsample=None, groups=1,\n",
        "                 base_width=64, dilation=1, norm_layer=None, quantize=False):\n",
        "        super(BasicBlock, self).__init__()\n",
        "        self.quantize = quantize\n",
        "        if norm_layer is None:\n",
        "            norm_layer = nn.BatchNorm2d\n",
        "        if groups != 1 or base_width != 64:\n",
        "            raise ValueError('BasicBlock only supports groups=1 and base_width=64')\n",
        "        if dilation > 1:\n",
        "            raise NotImplementedError(\"Dilation > 1 not supported in BasicBlock\")\n",
        "        # Both self.conv1 and self.downsample layers downsample the input when stride != 1\n",
        "        self.conv1 = conv3x3(inplanes, planes, stride)\n",
        "        self.bn1 = norm_layer(planes)\n",
        "        self.relu = nn.ReLU(inplace=True)\n",
        "        self.conv2 = conv3x3(planes, planes)\n",
        "        self.bn2 = norm_layer(planes)\n",
        "        self.downsample = downsample\n",
        "        self.stride = stride\n",
        "        # FloatFunction()\n",
        "        self.skip_add = nn.quantized.FloatFunctional()\n",
        "        \n",
        "\n",
        "    def forward(self, x):\n",
        "        identity = x\n",
        "\n",
        "        out = self.conv1(x)\n",
        "        out = self.bn1(out)\n",
        "        out = self.relu(out)\n",
        "\n",
        "        out = self.conv2(out)\n",
        "        out = self.bn2(out)\n",
        "\n",
        "        if self.downsample is not None:\n",
        "            identity = self.downsample(x)\n",
        "\n",
        "        # Notice the addition operation in both scenarios\n",
        "        if self.quantize:\n",
        "            out = self.skip_add.add(out, identity)\n",
        "        else:\n",
        "            out += identity\n",
        "\n",
        "        out = self.relu(out)\n",
        "\n",
        "        return out\n",
        "\n",
        "\n",
        "class ResNet(nn.Module):\n",
        "\n",
        "    def __init__(self, block=BasicBlock, layers=[2, 2, 2, 2], num_classes=1000, zero_init_residual=False,\n",
        "                 groups=1, width_per_group=64, replace_stride_with_dilation=None,\n",
        "                 norm_layer=None, mnist=False, quantize=False):\n",
        "        super(ResNet, self).__init__()\n",
        "        self.quantize = quantize\n",
        "        if mnist:\n",
        "            num_channels = 1\n",
        "        else:\n",
        "            num_channels = 3\n",
        "        if norm_layer is None:\n",
        "            norm_layer = nn.BatchNorm2d\n",
        "        self._norm_layer = norm_layer\n",
        "\n",
        "        self.inplanes = 64\n",
        "        self.dilation = 1\n",
        "        if replace_stride_with_dilation is None:\n",
        "            # each element in the tuple indicates if we should replace \n",
        "            # the 2x2 stride with a dilated convolution instead.\n",
        "            replace_stride_with_dilation = [False, False, False]\n",
        "        if len(replace_stride_with_dilation) != 3:\n",
        "            raise ValueError(\"replace_stride_with_dilation should be None \"\n",
        "                             \"or a 3-element tuple, got {}\".format(replace_stride_with_dilation))\n",
        "        self.groups = groups\n",
        "        self.base_width = width_per_group\n",
        "        self.conv1 = nn.Conv2d(num_channels, self.inplanes, kernel_size=7, stride=2, padding=3,\n",
        "                               bias=False)\n",
        "        self.bn1 = norm_layer(self.inplanes)\n",
        "        self.relu = nn.ReLU(inplace=True)\n",
        "        self.maxpool = nn.MaxPool2d(kernel_size=3, stride=2, padding=1)\n",
        "        self.layer1 = self._make_layer(block, 64, layers[0])\n",
        "        self.layer2 = self._make_layer(block, 128, layers[1], stride=2,\n",
        "                                       dilate=replace_stride_with_dilation[0])\n",
        "        self.layer3 = self._make_layer(block, 256, layers[2], stride=2,\n",
        "                                       dilate=replace_stride_with_dilation[1])\n",
        "        self.layer4 = self._make_layer(block, 512, layers[3], stride=2,\n",
        "                                       dilate=replace_stride_with_dilation[2])\n",
        "        self.avgpool = nn.AdaptiveAvgPool2d((1, 1))\n",
        "        self.fc = nn.Linear(512 * block.expansion, num_classes)\n",
        "        self.quant = torch.quantization.QuantStub()\n",
        "        self.dequant = torch.quantization.DeQuantStub()\n",
        "\n",
        "        for m in self.modules():\n",
        "            if isinstance(m, nn.Conv2d):\n",
        "                nn.init.kaiming_normal_(m.weight, mode='fan_out', nonlinearity='relu')\n",
        "            elif isinstance(m, (nn.BatchNorm2d, nn.GroupNorm)):\n",
        "                nn.init.constant_(m.weight, 1)\n",
        "                nn.init.constant_(m.bias, 0)\n",
        "\n",
        "        # Zero-initialize the last BN in each residual branch,\n",
        "        # so that the residual branch starts with zeros, and each residual block behaves like an identity.\n",
        "        if zero_init_residual:\n",
        "            for m in self.modules():\n",
        "                if isinstance(m, Bottleneck):\n",
        "                    nn.init.constant_(m.bn3.weight, 0)\n",
        "                elif isinstance(m, BasicBlock):\n",
        "                    nn.init.constant_(m.bn2.weight, 0)\n",
        "\n",
        "    def _make_layer(self, block, planes, blocks, stride=1, dilate=False):\n",
        "        norm_layer = self._norm_layer\n",
        "        downsample = None\n",
        "        previous_dilation = self.dilation\n",
        "        if dilate:\n",
        "            self.dilation *= stride\n",
        "            stride = 1\n",
        "        if stride != 1 or self.inplanes != planes * block.expansion:\n",
        "            downsample = nn.Sequential(\n",
        "                conv1x1(self.inplanes, planes * block.expansion, stride),\n",
        "                norm_layer(planes * block.expansion),\n",
        "            )\n",
        "\n",
        "        layers = []\n",
        "        layers.append(block(self.inplanes, planes, stride, downsample, self.groups,\n",
        "                            self.base_width, previous_dilation, norm_layer, quantize=self.quantize))\n",
        "        self.inplanes = planes * block.expansion\n",
        "        for _ in range(1, blocks):\n",
        "            layers.append(block(self.inplanes, planes, groups=self.groups,\n",
        "                                base_width=self.base_width, dilation=self.dilation,\n",
        "                                norm_layer=norm_layer, quantize=self.quantize))\n",
        "\n",
        "        return nn.Sequential(*layers)\n",
        "\n",
        "    def _forward_impl(self, x):\n",
        "        # Input are quantized\n",
        "        if self.quantize:\n",
        "            x = self.quant(x)\n",
        "    \n",
        "        x = self.conv1(x)\n",
        "        x = self.bn1(x)\n",
        "        x = self.relu(x)\n",
        "        x = self.maxpool(x)\n",
        "\n",
        "        x = self.layer1(x)\n",
        "        x = self.layer2(x)\n",
        "        x = self.layer3(x)\n",
        "        x = self.layer4(x)\n",
        "\n",
        "        x = self.avgpool(x)\n",
        "        x = torch.flatten(x, 1)\n",
        "        x = self.fc(x)\n",
        "        \n",
        "        # Outputs are dequantized\n",
        "        if self.quantize:\n",
        "            x = self.dequant(x)\n",
        "        \n",
        "        return x\n",
        "\n",
        "    def forward(self, x):\n",
        "         # See note [TorchScript super()]\n",
        "        return self._forward_impl(x)"
      ],
      "execution_count": null,
      "outputs": []
    },
    {
      "cell_type": "code",
      "metadata": {
        "id": "oMRtftTr1sMC"
      },
      "source": [
        "def train(args, model, device, train_loader, optimizer, epoch):\n",
        "    \"\"\" Train the model with given dataset\n",
        "    \n",
        "    Args:\n",
        "        args: args like log interval\n",
        "        model: ResNet model to train\n",
        "        device: CPU/GPU\n",
        "        train_loader: dataset iterator\n",
        "        optimizer: optimizer to update weights\n",
        "        epoch: number of epochs to train for\n",
        "    \"\"\"\n",
        "    model.train()\n",
        "    for batch_idx, (data, target) in enumerate(train_loader):\n",
        "        data, target = data.to(device), target.to(device)\n",
        "        optimizer.zero_grad()\n",
        "        output = model(data)\n",
        "        loss = F.nll_loss(F.log_softmax(output, dim=-1), target)\n",
        "        loss.backward()\n",
        "        optimizer.step()\n",
        "\n",
        "        if batch_idx % args[\"log_interval\"] == 0:\n",
        "            print('Train Epoch: {} [{}/{} ({:.0f}%)]\\tLoss: {:.6f}'.format(\n",
        "                epoch, batch_idx * len(data), len(train_loader.dataset),\n",
        "                100. * batch_idx / len(train_loader), loss.item()))"
      ],
      "execution_count": null,
      "outputs": []
    },
    {
      "cell_type": "code",
      "metadata": {
        "colab": {
          "base_uri": "https://localhost:8080/"
        },
        "id": "8RsNqiW91txZ",
        "outputId": "be078066-c7ab-47c8-994f-270a912d6c18"
      },
      "source": [
        "batch_size = 64\n",
        "epochs = 5\n",
        "lr = 0.01\n",
        "momentum = 0.5\n",
        "seed = 1\n",
        "log_interval = 500\n",
        "save_model = True\n",
        "no_cuda = False\n",
        "\n",
        "use_cuda = not no_cuda and torch.cuda.is_available()\n",
        "\n",
        "torch.manual_seed(seed)\n",
        "device = torch.device(\"cuda\" if use_cuda else \"cpu\")\n",
        "model = ResNet(num_classes=10, mnist=True).to(device)\n",
        "optimizer = torch.optim.SGD(model.parameters(), lr=lr, momentum=momentum)\n",
        "args = {}\n",
        "args[\"log_interval\"] = log_interval\n",
        "for epoch in range(1, epochs + 1):\n",
        "    train(args, model, device, train_loader, optimizer, epoch)\n",
        "\n",
        "if (save_model):\n",
        "    torch.save(model.state_dict(),\"mnist_cnn.pt\")"
      ],
      "execution_count": null,
      "outputs": [
        {
          "output_type": "stream",
          "text": [
            "Train Epoch: 1 [0/60000 (0%)]\tLoss: 2.709100\n",
            "Train Epoch: 1 [32000/60000 (53%)]\tLoss: 0.027486\n",
            "Train Epoch: 2 [0/60000 (0%)]\tLoss: 0.101788\n",
            "Train Epoch: 2 [32000/60000 (53%)]\tLoss: 0.038872\n",
            "Train Epoch: 3 [0/60000 (0%)]\tLoss: 0.051835\n",
            "Train Epoch: 3 [32000/60000 (53%)]\tLoss: 0.020171\n",
            "Train Epoch: 4 [0/60000 (0%)]\tLoss: 0.004436\n",
            "Train Epoch: 4 [32000/60000 (53%)]\tLoss: 0.009814\n",
            "Train Epoch: 5 [0/60000 (0%)]\tLoss: 0.038630\n",
            "Train Epoch: 5 [32000/60000 (53%)]\tLoss: 0.005278\n"
          ],
          "name": "stdout"
        }
      ]
    },
    {
      "cell_type": "markdown",
      "metadata": {
        "id": "pcUP9ta0uLq8"
      },
      "source": [
        "# 모델 테스트\r\n",
        "학습된 모델을 테스트 해보겠습니다."
      ]
    },
    {
      "cell_type": "code",
      "metadata": {
        "colab": {
          "base_uri": "https://localhost:8080/"
        },
        "id": "s5-RZRv3ud4A",
        "outputId": "25b14a75-c815-4f9e-c248-86a624cdd455"
      },
      "source": [
        "def print_size_of_model(model):\r\n",
        "    \"\"\" Print the size of the model.\r\n",
        "    \r\n",
        "    Args:\r\n",
        "        model: model whose size needs to be determined\r\n",
        "\r\n",
        "    \"\"\"\r\n",
        "    torch.save(model.state_dict(), \"temp.p\")\r\n",
        "    print('Size of the model(MB):', os.path.getsize(\"temp.p\")/1e6)\r\n",
        "    os.remove('temp.p')\r\n",
        "  \r\n",
        "print_size_of_model(model)\r\n",
        "\r\n",
        "def test(model, device, test_loader):\r\n",
        "    model.to(device)\r\n",
        "    model.eval()\r\n",
        "\r\n",
        "    test_loss = 0\r\n",
        "    correct = 0\r\n",
        "    with torch.no_grad():\r\n",
        "        for data, target in test_loader:\r\n",
        "            data, target = data.to(device), target.to(device)\r\n",
        "            st = time.time()\r\n",
        "            output = model(data)\r\n",
        "            et = time.time()\r\n",
        "            test_loss += F.nll_loss(F.log_softmax(output, dim=-1), target, reduction='sum').item() # sum up batch loss\r\n",
        "            pred = output.argmax(dim=1, keepdim=True) # get the index of the max log-probability\r\n",
        "            correct += pred.eq(target.view_as(pred)).sum().item()\r\n",
        "\r\n",
        "    test_loss /= len(test_loader.dataset)\r\n",
        "    \r\n",
        "    print(\"========================================= PERFORMANCE =============================================\")\r\n",
        "    print_size_of_model(model)\r\n",
        "    print('\\nTest set: Average loss: {:.4f}, Accuracy: {}/{} ({:.0f}%)\\n'.format(\r\n",
        "        test_loss, correct, len(test_loader.dataset),\r\n",
        "        100. * correct / len(test_loader.dataset)))\r\n",
        "    print('Elapsed time = {:0.4f} milliseconds'.format((et - st) * 1000))\r\n",
        "    print(\"====================================================================================================\")"
      ],
      "execution_count": null,
      "outputs": [
        {
          "output_type": "stream",
          "text": [
            "Size of the model(MB): 44.78267\n"
          ],
          "name": "stdout"
        }
      ]
    },
    {
      "cell_type": "code",
      "metadata": {
        "colab": {
          "base_uri": "https://localhost:8080/"
        },
        "id": "DdbisobA1t-Z",
        "outputId": "7e9aa52f-bdc9-40e4-ec51-0a3bfd5268ab"
      },
      "source": [
        "device = 'cpu'\n",
        "model = ResNet(num_classes=10, mnist=True)\n",
        "loaded_dict_enc = torch.load('mnist_cnn.pt', map_location=device)\n",
        "model.load_state_dict(loaded_dict_enc)\n",
        "test(model=model, device=device, test_loader=test_loader)"
      ],
      "execution_count": null,
      "outputs": [
        {
          "output_type": "stream",
          "text": [
            "========================================= PERFORMANCE =============================================\n",
            "Size of the model(MB): 44.780931\n",
            "\n",
            "Test set: Average loss: 0.0243, Accuracy: 9923/10000 (99%)\n",
            "\n",
            "Elapsed time = 45.8539 milliseconds\n",
            "====================================================================================================\n"
          ],
          "name": "stdout"
        }
      ]
    },
    {
      "cell_type": "markdown",
      "metadata": {
        "id": "mcAbMHwtwEH8"
      },
      "source": [
        "# Dynamic Quantization\r\n",
        "Dynamic Quantization은 모델의 weight를 quantizing 하는 방법입니다.\r\n",
        "또한 매 순간 레이어의 출력 activation을 더 적은 비트(int8)로 변환을 하게 됩니다(따라서 Dynamic이란 이름이 붙었습니다).\r\n",
        "\r\n",
        "하지만 여전히 계산의 결과물은 float32의 형태로 메모리에 read & write 됩니다. 즉 int8 연산 수행(이 때 해당 결과는 float32의 형태로 나오는 것을 허용) -> 결과물을 int8로 변환 -> 다시 연산 수행의 과정을 거치게 됩니다.\r\n",
        "\r\n",
        "학습된 모델의 Linear 레이어를 quantize_dynamic를 활용하여 quantizing 해보겠습니다.\r\n",
        "(참고: 현재 pytorch의 quantize_dynamic 함수는 nn.Linear,  nn.LSTM에 대해서만 지원을 하고 있습니다.)"
      ]
    },
    {
      "cell_type": "code",
      "metadata": {
        "id": "7zYmTSrM10Ty"
      },
      "source": [
        "quantized_model = torch.quantization.quantize_dynamic(model, {nn.Linear}, dtype=torch.qint8)"
      ],
      "execution_count": null,
      "outputs": []
    },
    {
      "cell_type": "code",
      "metadata": {
        "id": "3h4uqihg10YU",
        "colab": {
          "base_uri": "https://localhost:8080/"
        },
        "outputId": "158099a9-072b-488c-eeb7-84bbe4ebe0b8"
      },
      "source": [
        "device = 'cpu'\r\n",
        "test(model=quantized_model, device=device, test_loader=test_loader)"
      ],
      "execution_count": null,
      "outputs": [
        {
          "output_type": "stream",
          "text": [
            "========================================= PERFORMANCE =============================================\n",
            "Size of the model(MB): 44.766353\n",
            "\n",
            "Test set: Average loss: 0.0243, Accuracy: 9923/10000 (99%)\n",
            "\n",
            "Elapsed time = 44.3783 milliseconds\n",
            "====================================================================================================\n"
          ],
          "name": "stdout"
        }
      ]
    },
    {
      "cell_type": "markdown",
      "metadata": {
        "id": "OSgv-08ECD_d"
      },
      "source": [
        "# Static Quantization\r\n",
        "Static Quantization은 Dynamic Quantization에서 한발 더 나아가, 모든 연산의 결과도 int8의 형태로만 저장하는 quantization 방식입니다. 일반적으로 모델의 학습이 종료된 이후, quantization 효율을 극대화하기 위해 Static Quantization을 사용하게 됩니다.\r\n",
        "\r\n",
        "위에서 학습한 모델을 해당 방식으로 quantizing 해보도록 하겠습니다."
      ]
    },
    {
      "cell_type": "code",
      "metadata": {
        "id": "cJVGAiWrhfTs"
      },
      "source": [
        "def static_quantize(model, device, test_loader, quantize=False, fbgemm=False):\r\n",
        "    model.to(device)\r\n",
        "    model.eval()\r\n",
        "\r\n",
        "    modules_to_fuse = [['conv1', 'bn1'],\r\n",
        "            ['layer1.0.conv1', 'layer1.0.bn1'],\r\n",
        "            ['layer1.0.conv2', 'layer1.0.bn2'],\r\n",
        "            ['layer1.1.conv1', 'layer1.1.bn1'],\r\n",
        "            ['layer1.1.conv2', 'layer1.1.bn2'],\r\n",
        "            ['layer2.0.conv1', 'layer2.0.bn1'],\r\n",
        "            ['layer2.0.conv2', 'layer2.0.bn2'],\r\n",
        "            ['layer2.0.downsample.0', 'layer2.0.downsample.1'],\r\n",
        "            ['layer2.1.conv1', 'layer2.1.bn1'],\r\n",
        "            ['layer2.1.conv2', 'layer2.1.bn2'],\r\n",
        "            ['layer3.0.conv1', 'layer3.0.bn1'],\r\n",
        "            ['layer3.0.conv2', 'layer3.0.bn2'],\r\n",
        "            ['layer3.0.downsample.0', 'layer3.0.downsample.1'],\r\n",
        "            ['layer3.1.conv1', 'layer3.1.bn1'],\r\n",
        "            ['layer3.1.conv2', 'layer3.1.bn2'],\r\n",
        "            ['layer4.0.conv1', 'layer4.0.bn1'],\r\n",
        "            ['layer4.0.conv2', 'layer4.0.bn2'],\r\n",
        "            ['layer4.0.downsample.0', 'layer4.0.downsample.1'],\r\n",
        "            ['layer4.1.conv1', 'layer4.1.bn1'],\r\n",
        "            ['layer4.1.conv2', 'layer4.1.bn2']]\r\n",
        "    model = torch.quantization.fuse_modules(model, modules_to_fuse)\r\n",
        "    if fbgemm:\r\n",
        "        model.qconfig = torch.quantization.get_default_qconfig('fbgemm')\r\n",
        "    else:\r\n",
        "        model.qconfig = torch.quantization.default_qconfig\r\n",
        "    torch.quantization.prepare(model, inplace=True)\r\n",
        "    model.eval()\r\n",
        "    with torch.no_grad():\r\n",
        "        for data, target in train_loader:\r\n",
        "            model(data)\r\n",
        "    torch.quantization.convert(model, inplace=True)\r\n",
        "\r\n",
        "    return model"
      ],
      "execution_count": null,
      "outputs": []
    },
    {
      "cell_type": "code",
      "metadata": {
        "id": "Y0E6nUaZSESi"
      },
      "source": [
        "# def test(model, device, test_loader, quantize=False, fbgemm=False):\r\n",
        "#     model.to(device)\r\n",
        "#     model.eval()\r\n",
        "    \r\n",
        "#     # Testing with qauntization if quantize=True\r\n",
        "#     if quantize:\r\n",
        "#         modules_to_fuse = [['conv1', 'bn1'],\r\n",
        "#                    ['layer1.0.conv1', 'layer1.0.bn1'],\r\n",
        "#                    ['layer1.0.conv2', 'layer1.0.bn2'],\r\n",
        "#                    ['layer1.1.conv1', 'layer1.1.bn1'],\r\n",
        "#                    ['layer1.1.conv2', 'layer1.1.bn2'],\r\n",
        "#                    ['layer2.0.conv1', 'layer2.0.bn1'],\r\n",
        "#                    ['layer2.0.conv2', 'layer2.0.bn2'],\r\n",
        "#                    ['layer2.0.downsample.0', 'layer2.0.downsample.1'],\r\n",
        "#                    ['layer2.1.conv1', 'layer2.1.bn1'],\r\n",
        "#                    ['layer2.1.conv2', 'layer2.1.bn2'],\r\n",
        "#                    ['layer3.0.conv1', 'layer3.0.bn1'],\r\n",
        "#                    ['layer3.0.conv2', 'layer3.0.bn2'],\r\n",
        "#                    ['layer3.0.downsample.0', 'layer3.0.downsample.1'],\r\n",
        "#                    ['layer3.1.conv1', 'layer3.1.bn1'],\r\n",
        "#                    ['layer3.1.conv2', 'layer3.1.bn2'],\r\n",
        "#                    ['layer4.0.conv1', 'layer4.0.bn1'],\r\n",
        "#                    ['layer4.0.conv2', 'layer4.0.bn2'],\r\n",
        "#                    ['layer4.0.downsample.0', 'layer4.0.downsample.1'],\r\n",
        "#                    ['layer4.1.conv1', 'layer4.1.bn1'],\r\n",
        "#                    ['layer4.1.conv2', 'layer4.1.bn2']]\r\n",
        "#         model = torch.quantization.fuse_modules(model, modules_to_fuse)\r\n",
        "#         if fbgemm:\r\n",
        "#             model.qconfig = torch.quantization.get_default_qconfig('fbgemm')\r\n",
        "#         else:\r\n",
        "#             model.qconfig = torch.quantization.default_qconfig\r\n",
        "#         torch.quantization.prepare(model, inplace=True)\r\n",
        "#         model.eval()\r\n",
        "#         with torch.no_grad():\r\n",
        "#             for data, target in train_loader:\r\n",
        "#                 model(data)\r\n",
        "#         torch.quantization.convert(model, inplace=True)\r\n",
        "\r\n",
        "#     test_loss = 0\r\n",
        "#     correct = 0\r\n",
        "#     with torch.no_grad():\r\n",
        "#         for data, target in test_loader:\r\n",
        "#             data, target = data.to(device), target.to(device)\r\n",
        "#             st = time.time()\r\n",
        "#             output = model(data)\r\n",
        "#             et = time.time()\r\n",
        "#             test_loss += F.nll_loss(F.log_softmax(output, dim=-1), target, reduction='sum').item() # sum up batch loss\r\n",
        "#             pred = output.argmax(dim=1, keepdim=True) # get the index of the max log-probability\r\n",
        "#             correct += pred.eq(target.view_as(pred)).sum().item()\r\n",
        "\r\n",
        "#     test_loss /= len(test_loader.dataset)\r\n",
        "    \r\n",
        "#     print(\"========================================= PERFORMANCE =============================================\")\r\n",
        "#     print_size_of_model(model)\r\n",
        "#     print('\\nTest set: Average loss: {:.4f}, Accuracy: {}/{} ({:.0f}%)\\n'.format(\r\n",
        "#         test_loss, correct, len(test_loader.dataset),\r\n",
        "#         100. * correct / len(test_loader.dataset)))\r\n",
        "#     print('Elapsed time = {:0.4f} milliseconds'.format((et - st) * 1000))\r\n",
        "#     print(\"====================================================================================================\")\r\n",
        "#     return model"
      ],
      "execution_count": null,
      "outputs": []
    },
    {
      "cell_type": "code",
      "metadata": {
        "colab": {
          "base_uri": "https://localhost:8080/"
        },
        "id": "HGyxxc4gNI3w",
        "outputId": "60133fb4-e178-4825-85fd-3a4f8abbad0e"
      },
      "source": [
        "device = 'cpu'\r\n",
        "model = ResNet(num_classes=10, mnist=True, quantize=True)\r\n",
        "loaded_dict_enc = torch.load('mnist_cnn.pt', map_location=device)\r\n",
        "model.load_state_dict(loaded_dict_enc)\r\n",
        "quantized_model = static_quantize(model=model, device=device, test_loader=test_loader, quantize=True, fbgemm=False)\r\n",
        "\r\n",
        "test(model=quantized_model, device=device, test_loader=test_loader)"
      ],
      "execution_count": null,
      "outputs": [
        {
          "output_type": "stream",
          "text": [
            "/usr/local/lib/python3.6/dist-packages/torch/quantization/observer.py:121: UserWarning: Please use quant_min and quant_max to specify the range for observers.                     reduce_range will be deprecated in a future release of PyTorch.\n",
            "  reduce_range will be deprecated in a future release of PyTorch.\"\n"
          ],
          "name": "stderr"
        },
        {
          "output_type": "stream",
          "text": [
            "========================================= PERFORMANCE =============================================\n",
            "Size of the model(MB): 11.21975\n",
            "\n",
            "Test set: Average loss: 0.0250, Accuracy: 9917/10000 (99%)\n",
            "\n",
            "Elapsed time = 15.2705 milliseconds\n",
            "====================================================================================================\n"
          ],
          "name": "stdout"
        }
      ]
    },
    {
      "cell_type": "markdown",
      "metadata": {
        "id": "r2IZD7H2T1qp"
      },
      "source": [
        "# qauntized layer histogram\r\n",
        "\r\n",
        "원 모델과 quantized된 모델의 값이 차이가 나는 부분을 히스토그램으로 그려봅시다."
      ]
    },
    {
      "cell_type": "code",
      "metadata": {
        "id": "80MDjlfZUDry"
      },
      "source": [
        "import torch.quantization._numeric_suite as ns\r\n",
        "from torch.quantization import (\r\n",
        "    default_eval_fn,\r\n",
        "    default_qconfig,\r\n",
        "    quantize,\r\n",
        ")"
      ],
      "execution_count": null,
      "outputs": []
    },
    {
      "cell_type": "code",
      "metadata": {
        "colab": {
          "base_uri": "https://localhost:8080/"
        },
        "id": "tvrOc9siUyj9",
        "outputId": "45067b07-b0fa-472c-f5b1-6029738c2fb5"
      },
      "source": [
        "wt_compare_dict = ns.compare_weights(model.state_dict(), quantized_model.state_dict())\r\n",
        "\r\n",
        "print('keys of wt_compare_dict:')\r\n",
        "print(wt_compare_dict.keys())\r\n",
        "\r\n",
        "print(\"\\nkeys of wt_compare_dict entry for conv1's weight:\")\r\n",
        "print(wt_compare_dict['conv1.weight'].keys())\r\n",
        "print(wt_compare_dict['conv1.weight']['float'].shape)\r\n",
        "print(wt_compare_dict['conv1.weight']['quantized'].shape)"
      ],
      "execution_count": null,
      "outputs": [
        {
          "output_type": "stream",
          "text": [
            "keys of wt_compare_dict:\n",
            "dict_keys(['conv1.weight', 'layer1.0.conv1.weight', 'layer1.0.conv2.weight', 'layer1.1.conv1.weight', 'layer1.1.conv2.weight', 'layer2.0.conv1.weight', 'layer2.0.conv2.weight', 'layer2.0.downsample.0.weight', 'layer2.1.conv1.weight', 'layer2.1.conv2.weight', 'layer3.0.conv1.weight', 'layer3.0.conv2.weight', 'layer3.0.downsample.0.weight', 'layer3.1.conv1.weight', 'layer3.1.conv2.weight', 'layer4.0.conv1.weight', 'layer4.0.conv2.weight', 'layer4.0.downsample.0.weight', 'layer4.1.conv1.weight', 'layer4.1.conv2.weight', 'fc._packed_params._packed_params'])\n",
            "\n",
            "keys of wt_compare_dict entry for conv1's weight:\n",
            "dict_keys(['float', 'quantized'])\n",
            "torch.Size([64, 1, 7, 7])\n",
            "torch.Size([64, 1, 7, 7])\n"
          ],
          "name": "stdout"
        }
      ]
    },
    {
      "cell_type": "code",
      "metadata": {
        "colab": {
          "base_uri": "https://localhost:8080/"
        },
        "id": "fdZfstaQPOR_",
        "outputId": "2c35943d-917a-4550-c08b-e83bc715119c"
      },
      "source": [
        "f = wt_compare_dict['conv1.weight']['float'].flatten()\r\n",
        "plt.hist(f, bins = 100)\r\n",
        "plt.title(\"Floating point model weights of conv1\")\r\n",
        "plt.show()\r\n",
        "\r\n",
        "q = wt_compare_dict['conv1.weight']['quantized'].flatten().dequantize()\r\n",
        "plt.hist(q, bins = 100)\r\n",
        "plt.title(\"Quantized model weights of conv1\")\r\n",
        "plt.show()"
      ],
      "execution_count": null,
      "outputs": [
        {
          "output_type": "display_data",
          "data": {
            "image/png": "[encoded data removed]",
            "text/plain": [
              "<Figure size 432x288 with 1 Axes>"
            ]
          },
          "metadata": {
            "tags": [],
            "needs_background": "light"
          }
        },
        {
          "output_type": "display_data",
          "data": {
            "image/png": "[encoded data removed]",
            "text/plain": [
              "<Figure size 432x288 with 1 Axes>"
            ]
          },
          "metadata": {
            "tags": [],
            "needs_background": "light"
          }
        }
      ]
    },
    {
      "cell_type": "code",
      "metadata": {
        "colab": {
          "base_uri": "https://localhost:8080/",
          "height": 281
        },
        "id": "_i65cZwghAnZ",
        "outputId": "4399a535-fa22-44bd-d171-890f7b183b2f"
      },
      "source": [
        "f = wt_compare_dict['conv1.weight']['float'].flatten()\r\n",
        "plt.hist(f, bins = 100)\r\n",
        "plt.title(\"Floating point model weights of conv1\")\r\n",
        "\r\n",
        "q = wt_compare_dict['conv1.weight']['quantized'].flatten().dequantize()\r\n",
        "plt.hist(q, bins = 100)\r\n",
        "plt.title(\"Quantized model weights of conv1\")\r\n",
        "plt.show()"
      ],
      "execution_count": null,
      "outputs": [
        {
          "output_type": "display_data",
          "data": {
            "image/png": "[encoded data removed]",
            "text/plain": [
              "<Figure size 432x288 with 1 Axes>"
            ]
          },
          "metadata": {
            "tags": [],
            "needs_background": "light"
          }
        }
      ]
    },
    {
      "cell_type": "code",
      "metadata": {
        "id": "1Lh2ORy1hV-v"
      },
      "source": [
        ""
      ],
      "execution_count": null,
      "outputs": []
    }
  ]
}