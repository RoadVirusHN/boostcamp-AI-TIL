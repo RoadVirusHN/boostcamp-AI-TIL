{
  "nbformat": 4,
  "nbformat_minor": 0,
  "metadata": {
    "colab": {
      "name": "9. toy code - teacher & student.ipynb",
      "provenance": [],
      "collapsed_sections": []
    },
    "kernelspec": {
      "name": "python3",
      "display_name": "Python 3"
    },
    "accelerator": "GPU",
    "widgets": {
      "application/vnd.jupyter.widget-state+json": {
        "4a8bb17deafe4fc28207529668f83802": {
          "model_module": "@jupyter-widgets/controls",
          "model_name": "HBoxModel",
          "state": {
            "_view_name": "HBoxView",
            "_dom_classes": [],
            "_model_name": "HBoxModel",
            "_view_module": "@jupyter-widgets/controls",
            "_model_module_version": "1.5.0",
            "_view_count": null,
            "_view_module_version": "1.5.0",
            "box_style": "",
            "layout": "IPY_MODEL_a0d46848d7a440ed8f14182108fbb743",
            "_model_module": "@jupyter-widgets/controls",
            "children": [
              "IPY_MODEL_91230206509344069c4ce255cb6d4102",
              "IPY_MODEL_ed3f23a414b14ed0a18a7fc641dd9c2b"
            ]
          }
        },
        "a0d46848d7a440ed8f14182108fbb743": {
          "model_module": "@jupyter-widgets/base",
          "model_name": "LayoutModel",
          "state": {
            "_view_name": "LayoutView",
            "grid_template_rows": null,
            "right": null,
            "justify_content": null,
            "_view_module": "@jupyter-widgets/base",
            "overflow": null,
            "_model_module_version": "1.2.0",
            "_view_count": null,
            "flex_flow": null,
            "width": null,
            "min_width": null,
            "border": null,
            "align_items": null,
            "bottom": null,
            "_model_module": "@jupyter-widgets/base",
            "top": null,
            "grid_column": null,
            "overflow_y": null,
            "overflow_x": null,
            "grid_auto_flow": null,
            "grid_area": null,
            "grid_template_columns": null,
            "flex": null,
            "_model_name": "LayoutModel",
            "justify_items": null,
            "grid_row": null,
            "max_height": null,
            "align_content": null,
            "visibility": null,
            "align_self": null,
            "height": null,
            "min_height": null,
            "padding": null,
            "grid_auto_rows": null,
            "grid_gap": null,
            "max_width": null,
            "order": null,
            "_view_module_version": "1.2.0",
            "grid_template_areas": null,
            "object_position": null,
            "object_fit": null,
            "grid_auto_columns": null,
            "margin": null,
            "display": null,
            "left": null
          }
        },
        "91230206509344069c4ce255cb6d4102": {
          "model_module": "@jupyter-widgets/controls",
          "model_name": "FloatProgressModel",
          "state": {
            "_view_name": "ProgressView",
            "style": "IPY_MODEL_a748ecf804d74d2cbe23b732c03afc3f",
            "_dom_classes": [],
            "description": "100%",
            "_model_name": "FloatProgressModel",
            "bar_style": "success",
            "max": 87306240,
            "_view_module": "@jupyter-widgets/controls",
            "_model_module_version": "1.5.0",
            "value": 87306240,
            "_view_count": null,
            "_view_module_version": "1.5.0",
            "orientation": "horizontal",
            "min": 0,
            "description_tooltip": null,
            "_model_module": "@jupyter-widgets/controls",
            "layout": "IPY_MODEL_387822a925fc43fb991c045656c771fb"
          }
        },
        "ed3f23a414b14ed0a18a7fc641dd9c2b": {
          "model_module": "@jupyter-widgets/controls",
          "model_name": "HTMLModel",
          "state": {
            "_view_name": "HTMLView",
            "style": "IPY_MODEL_2da0628c6f7f4a7e86d0609dd259b85f",
            "_dom_classes": [],
            "description": "",
            "_model_name": "HTMLModel",
            "placeholder": "​",
            "_view_module": "@jupyter-widgets/controls",
            "_model_module_version": "1.5.0",
            "value": " 83.3M/83.3M [00:10&lt;00:00, 8.01MB/s]",
            "_view_count": null,
            "_view_module_version": "1.5.0",
            "description_tooltip": null,
            "_model_module": "@jupyter-widgets/controls",
            "layout": "IPY_MODEL_4d268b8f17e84f5685fb55e8b8c7cff8"
          }
        },
        "a748ecf804d74d2cbe23b732c03afc3f": {
          "model_module": "@jupyter-widgets/controls",
          "model_name": "ProgressStyleModel",
          "state": {
            "_view_name": "StyleView",
            "_model_name": "ProgressStyleModel",
            "description_width": "initial",
            "_view_module": "@jupyter-widgets/base",
            "_model_module_version": "1.5.0",
            "_view_count": null,
            "_view_module_version": "1.2.0",
            "bar_color": null,
            "_model_module": "@jupyter-widgets/controls"
          }
        },
        "387822a925fc43fb991c045656c771fb": {
          "model_module": "@jupyter-widgets/base",
          "model_name": "LayoutModel",
          "state": {
            "_view_name": "LayoutView",
            "grid_template_rows": null,
            "right": null,
            "justify_content": null,
            "_view_module": "@jupyter-widgets/base",
            "overflow": null,
            "_model_module_version": "1.2.0",
            "_view_count": null,
            "flex_flow": null,
            "width": null,
            "min_width": null,
            "border": null,
            "align_items": null,
            "bottom": null,
            "_model_module": "@jupyter-widgets/base",
            "top": null,
            "grid_column": null,
            "overflow_y": null,
            "overflow_x": null,
            "grid_auto_flow": null,
            "grid_area": null,
            "grid_template_columns": null,
            "flex": null,
            "_model_name": "LayoutModel",
            "justify_items": null,
            "grid_row": null,
            "max_height": null,
            "align_content": null,
            "visibility": null,
            "align_self": null,
            "height": null,
            "min_height": null,
            "padding": null,
            "grid_auto_rows": null,
            "grid_gap": null,
            "max_width": null,
            "order": null,
            "_view_module_version": "1.2.0",
            "grid_template_areas": null,
            "object_position": null,
            "object_fit": null,
            "grid_auto_columns": null,
            "margin": null,
            "display": null,
            "left": null
          }
        },
        "2da0628c6f7f4a7e86d0609dd259b85f": {
          "model_module": "@jupyter-widgets/controls",
          "model_name": "DescriptionStyleModel",
          "state": {
            "_view_name": "StyleView",
            "_model_name": "DescriptionStyleModel",
            "description_width": "",
            "_view_module": "@jupyter-widgets/base",
            "_model_module_version": "1.5.0",
            "_view_count": null,
            "_view_module_version": "1.2.0",
            "_model_module": "@jupyter-widgets/controls"
          }
        },
        "4d268b8f17e84f5685fb55e8b8c7cff8": {
          "model_module": "@jupyter-widgets/base",
          "model_name": "LayoutModel",
          "state": {
            "_view_name": "LayoutView",
            "grid_template_rows": null,
            "right": null,
            "justify_content": null,
            "_view_module": "@jupyter-widgets/base",
            "overflow": null,
            "_model_module_version": "1.2.0",
            "_view_count": null,
            "flex_flow": null,
            "width": null,
            "min_width": null,
            "border": null,
            "align_items": null,
            "bottom": null,
            "_model_module": "@jupyter-widgets/base",
            "top": null,
            "grid_column": null,
            "overflow_y": null,
            "overflow_x": null,
            "grid_auto_flow": null,
            "grid_area": null,
            "grid_template_columns": null,
            "flex": null,
            "_model_name": "LayoutModel",
            "justify_items": null,
            "grid_row": null,
            "max_height": null,
            "align_content": null,
            "visibility": null,
            "align_self": null,
            "height": null,
            "min_height": null,
            "padding": null,
            "grid_auto_rows": null,
            "grid_gap": null,
            "max_width": null,
            "order": null,
            "_view_module_version": "1.2.0",
            "grid_template_areas": null,
            "object_position": null,
            "object_fit": null,
            "grid_auto_columns": null,
            "margin": null,
            "display": null,
            "left": null
          }
        }
      }
    }
  },
  "cells": [
    {
      "cell_type": "markdown",
      "metadata": {
        "id": "6V7YhfQz9vyw"
      },
      "source": [
        "# Set GPU runtime\n",
        "- [참고] https://github.com/kmsravindra/ML-AI-experiments/blob/master/AI/knowledge_distillation/Knowledge%20distillation.ipynb"
      ]
    },
    {
      "cell_type": "markdown",
      "metadata": {
        "id": "ibJ7gT2-ivfz"
      },
      "source": [
        "# Knowledge Distillation \n",
        "\n",
        "\n",
        "<center><img src='https://github.com/karanchahal/distiller/raw/master/distiller.jpg' width=30%></center>\n",
        "\n",
        "\n"
      ]
    },
    {
      "cell_type": "markdown",
      "metadata": {
        "id": "Zz72n7tIi-Uf"
      },
      "source": [
        "# Experiments \n",
        "\n",
        "\n",
        "<center><img src='https://github.com/hoesungryu/lightweight_toyexample/blob/master/imgs/knowledge_distillation.jpg?raw=true', width=60%></center>"
      ]
    },
    {
      "cell_type": "code",
      "metadata": {
        "id": "OG5riVFFiuTe",
        "colab": {
          "base_uri": "https://localhost:8080/"
        },
        "outputId": "f8011eed-6301-423b-f4e1-b93d2a748085"
      },
      "source": [
        "# Google Drive Mount \n",
        "from google.colab import drive\n",
        "drive.mount('/content/gdrive')"
      ],
      "execution_count": null,
      "outputs": [
        {
          "output_type": "stream",
          "text": [
            "Mounted at /content/gdrive\n"
          ],
          "name": "stdout"
        }
      ]
    },
    {
      "cell_type": "code",
      "metadata": {
        "id": "BAGhIMgTiuX2"
      },
      "source": [
        "# import \n",
        "import torch\n",
        "import torch.nn as nn\n",
        "import torch.optim as optim\n",
        "import torch.nn.functional as F\n",
        "\n",
        "from torch.optim import lr_scheduler\n",
        "from torchsummary import summary\n",
        "\n",
        "import torchvision\n",
        "import torchvision.models as models\n",
        "import torchvision.transforms as transforms\n",
        "\n",
        "# Path 설정 \n",
        "import os\n",
        "os.chdir('/content/gdrive/My Drive/') # DataPath\n",
        "current_path = os.getcwd() # current folder"
      ],
      "execution_count": null,
      "outputs": []
    },
    {
      "cell_type": "code",
      "metadata": {
        "id": "fF4RW7ZOjpxi"
      },
      "source": [
        "# user-define function \n",
        "\n",
        "# Training\n",
        "def train(epoch,net):\n",
        "    print('\\nEpoch: %d' % epoch)\n",
        "    net.train()\n",
        "    train_loss = 0\n",
        "    correct = 0\n",
        "    total = 0\n",
        "\n",
        "    for batch_idx, (inputs, targets) in enumerate(trainloader):\n",
        "        inputs, targets = inputs.to(DEVICE), targets.to(DEVICE)\n",
        "        optimizer.zero_grad()\n",
        "        outputs = net(inputs)\n",
        "        loss = criterion(outputs, targets)\n",
        "        loss.backward()\n",
        "        optimizer.step()\n",
        "\n",
        "        train_loss += loss.item()\n",
        "        _, predicted = outputs.max(1)\n",
        "        total += targets.size(0)\n",
        "        correct += predicted.eq(targets).sum().item()\n",
        "\n",
        "        if batch_idx %1000 ==0:\n",
        "            print('Loss: %.3f | Acc: %.3f%% ' %(train_loss/(batch_idx+1),100.*correct/total))\n",
        "    \n",
        "def train_distillation(epoch, student, teacher, TEMPERATURE, ALPHA):\n",
        "    print('\\nEpoch: %d' % epoch)\n",
        "    student.train()\n",
        "    teacher.eval()\n",
        "    \n",
        "    train_loss = 0\n",
        "    correct = 0\n",
        "    total = 0\n",
        "\n",
        "    for batch_idx, (inputs, targets) in enumerate(trainloader):\n",
        "        inputs, targets = inputs.to(DEVICE), targets.to(DEVICE)\n",
        "        \n",
        "        optimizer.zero_grad()\n",
        "        outputs = student(inputs) # student\n",
        "        teacher_outputs = teacher(inputs) # teacher \n",
        "\n",
        "        loss = loss_fn_kd(outputs, targets, teacher_outputs,TEMPERATURE,ALPHA)\n",
        "        loss.backward()\n",
        "        optimizer.step()\n",
        "\n",
        "        train_loss += loss.item()\n",
        "        _, predicted = outputs.max(1)\n",
        "        total += targets.size(0)\n",
        "        correct += predicted.eq(targets).sum().item()\n",
        "\n",
        "        if batch_idx %1000 ==0:\n",
        "            print('Loss: %.3f | Acc: %.3f%% ' %(train_loss/(batch_idx+1),100.*correct/total))\n",
        "     \n",
        "    \n",
        "def test(epoch,net):\n",
        "    global best_acc\n",
        "    net.eval()\n",
        "    test_loss = 0\n",
        "    correct = 0\n",
        "    total = 0\n",
        "    with torch.no_grad():\n",
        "        for batch_idx, (inputs, targets) in enumerate(testloader):\n",
        "            inputs, targets = inputs.to(DEVICE), targets.to(DEVICE)\n",
        "            outputs = net(inputs)\n",
        "            loss = criterion(outputs, targets)\n",
        "\n",
        "            test_loss += loss.item()\n",
        "            _, predicted = outputs.max(1)\n",
        "            total += targets.size(0)\n",
        "            correct += predicted.eq(targets).sum().item()\n",
        "    print('Accuracy of the network on the test images: %d %%' % (\n",
        "    100 * correct / total))\n",
        "\n",
        "def loss_fn_kd(outputs, labels, teacher_outputs, T=2, alpha=0.5):\n",
        "    \"\"\"\n",
        "    # outputs = result of model\n",
        "    # labels = true label \n",
        "    # teacher_outputs = teacher_model(data) # teacher model eval()\n",
        "    # params = T & alpha \n",
        "    \"\"\"\n",
        "    KD_loss = nn.KLDivLoss(reduction='batchmean')(F.log_softmax(outputs/T, dim=1),\n",
        "                                F.softmax(teacher_outputs/T, dim=1)) * (alpha * T * T) + \\\n",
        "                F.cross_entropy(outputs, labels) * (1. - alpha)\n",
        "\n",
        "\n",
        "\n",
        "    return KD_loss"
      ],
      "execution_count": null,
      "outputs": []
    },
    {
      "cell_type": "code",
      "metadata": {
        "id": "wagDhVk_iuaG"
      },
      "source": [
        "# Initial Value \n",
        "DEVICE = 'cuda' if torch.cuda.is_available() else 'cpu'\n",
        "BEST_ACC = 0 \n",
        "START_EPOCH = 0 # start from epoch 0 or last checkpoint epoch\n",
        "BATCH_SIZE = 16\n"
      ],
      "execution_count": null,
      "outputs": []
    },
    {
      "cell_type": "code",
      "metadata": {
        "id": "GXGp2knZiuco",
        "colab": {
          "base_uri": "https://localhost:8080/"
        },
        "outputId": "226fb5b0-bc48-4f79-c485-28fdcc9daaf2"
      },
      "source": [
        "# Data preprocessing\n",
        "print('==> Preparing data..')\n",
        "\n",
        "mean_nums = [0.485, 0.456, 0.406]\n",
        "std_nums = [0.229, 0.224, 0.225]\n",
        "transform_train = transforms.Compose([transforms.RandomResizedCrop(size=256),\n",
        "                                      transforms.RandomRotation(degrees=15),\n",
        "                                      transforms.RandomHorizontalFlip(),\n",
        "                                      transforms.ToTensor(),\n",
        "                                      transforms.Normalize(mean_nums, std_nums),\n",
        "])\n",
        "\n",
        "\n",
        "transform_test = transforms.Compose([transforms.Resize(256),\n",
        "                                     transforms.ToTensor(),\n",
        "                                     transforms.Normalize(mean_nums, std_nums),\n",
        "])"
      ],
      "execution_count": null,
      "outputs": [
        {
          "output_type": "stream",
          "text": [
            "==> Preparing data..\n"
          ],
          "name": "stdout"
        }
      ]
    },
    {
      "cell_type": "code",
      "metadata": {
        "id": "jLHKMtt-iue7",
        "colab": {
          "base_uri": "https://localhost:8080/"
        },
        "outputId": "df7d06d2-f6af-4533-a36c-a39e37b2ab32"
      },
      "source": [
        "# DataSet & DataLoader\n",
        "trainset = torchvision.datasets.CIFAR10(root='./data', train=True,\n",
        "                                        download=True, transform=transform_train)\n",
        "testset = torchvision.datasets.CIFAR10(root='./data', train=False,\n",
        "                                       download=True, transform=transform_test)\n",
        "\n",
        "trainloader = torch.utils.data.DataLoader(trainset,\n",
        "                                          batch_size=BATCH_SIZE,\n",
        "                                          shuffle=True,)\n",
        "\n",
        "testloader = torch.utils.data.DataLoader(testset, \n",
        "                                         batch_size=BATCH_SIZE,\n",
        "                                         shuffle=False)"
      ],
      "execution_count": null,
      "outputs": [
        {
          "output_type": "stream",
          "text": [
            "Files already downloaded and verified\n",
            "Files already downloaded and verified\n"
          ],
          "name": "stdout"
        }
      ]
    },
    {
      "cell_type": "code",
      "metadata": {
        "id": "MH3Nc42jiuhW",
        "colab": {
          "base_uri": "https://localhost:8080/"
        },
        "outputId": "a1630acc-33ee-433f-82d5-f02b16ce36b6"
      },
      "source": [
        "# Check data size \n",
        "images, labels = next(iter(trainloader))\n",
        "print(images.shape)"
      ],
      "execution_count": null,
      "outputs": [
        {
          "output_type": "stream",
          "text": [
            "torch.Size([16, 3, 256, 256])\n"
          ],
          "name": "stdout"
        }
      ]
    },
    {
      "cell_type": "markdown",
      "metadata": {
        "id": "7iSNqILOjPZA"
      },
      "source": [
        "# STEP 1 \n",
        " \n",
        " Teacher Network 학습 \n",
        "\n",
        " 우리는 pretrained 된 resnet34 을 Teacher model 모델로 사용하겠습니다. (pretrained with 1000-class imagenet)\n",
        " "
      ]
    },
    {
      "cell_type": "markdown",
      "metadata": {
        "id": "WZ-D2haS4qrB"
      },
      "source": [
        "<center><img src='https://miro.medium.com/max/1708/1*1CSCPAEhvtBPcjNA9bll0A.png', width=70%></center>\n",
        "<center> <em>ResNet34의 구조</em></center>"
      ]
    },
    {
      "cell_type": "code",
      "metadata": {
        "id": "1KnxMpaZiuj6",
        "colab": {
          "base_uri": "https://localhost:8080/",
          "height": 1000,
          "referenced_widgets": [
            "4a8bb17deafe4fc28207529668f83802",
            "a0d46848d7a440ed8f14182108fbb743",
            "91230206509344069c4ce255cb6d4102",
            "ed3f23a414b14ed0a18a7fc641dd9c2b",
            "a748ecf804d74d2cbe23b732c03afc3f",
            "387822a925fc43fb991c045656c771fb",
            "2da0628c6f7f4a7e86d0609dd259b85f",
            "4d268b8f17e84f5685fb55e8b8c7cff8"
          ]
        },
        "outputId": "4e326e56-418a-4136-dd6a-55b09068d6cc"
      },
      "source": [
        "# teacher \n",
        "teacher = models.__dict__['resnet34'](pretrained=True)\n",
        "for param in teacher.parameters():\n",
        "    param.requires_grad = False\n",
        "    \n",
        "in_features = teacher.fc.in_features\n",
        "teacher.fc = nn.Linear(in_features,10)\n",
        "\n",
        "# Fine-tuning\n",
        "for name, child in teacher.named_children():\n",
        "    if name in ['layer3', 'layer4','fc']:\n",
        "        print(name + 'has been unfrozen.')\n",
        "        for param in child.parameters():\n",
        "            param.requires_grad = True\n",
        "    else:\n",
        "        for param in child.parameters():\n",
        "            param.requires_grad = False\n",
        "\n",
        "teacher = teacher.to(DEVICE)\n",
        "summary(teacher,(3,256, 256))"
      ],
      "execution_count": null,
      "outputs": [
        {
          "output_type": "stream",
          "text": [
            "Downloading: \"https://download.pytorch.org/models/resnet34-333f7ec4.pth\" to /root/.cache/torch/hub/checkpoints/resnet34-333f7ec4.pth\n"
          ],
          "name": "stderr"
        },
        {
          "output_type": "display_data",
          "data": {
            "application/vnd.jupyter.widget-view+json": {
              "model_id": "4a8bb17deafe4fc28207529668f83802",
              "version_minor": 0,
              "version_major": 2
            },
            "text/plain": [
              "HBox(children=(FloatProgress(value=0.0, max=87306240.0), HTML(value='')))"
            ]
          },
          "metadata": {
            "tags": []
          }
        },
        {
          "output_type": "stream",
          "text": [
            "\n",
            "layer3has been unfrozen.\n",
            "layer4has been unfrozen.\n",
            "fchas been unfrozen.\n",
            "----------------------------------------------------------------\n",
            "        Layer (type)               Output Shape         Param #\n",
            "================================================================\n",
            "            Conv2d-1         [-1, 64, 128, 128]           9,408\n",
            "       BatchNorm2d-2         [-1, 64, 128, 128]             128\n",
            "              ReLU-3         [-1, 64, 128, 128]               0\n",
            "         MaxPool2d-4           [-1, 64, 64, 64]               0\n",
            "            Conv2d-5           [-1, 64, 64, 64]          36,864\n",
            "       BatchNorm2d-6           [-1, 64, 64, 64]             128\n",
            "              ReLU-7           [-1, 64, 64, 64]               0\n",
            "            Conv2d-8           [-1, 64, 64, 64]          36,864\n",
            "       BatchNorm2d-9           [-1, 64, 64, 64]             128\n",
            "             ReLU-10           [-1, 64, 64, 64]               0\n",
            "       BasicBlock-11           [-1, 64, 64, 64]               0\n",
            "           Conv2d-12           [-1, 64, 64, 64]          36,864\n",
            "      BatchNorm2d-13           [-1, 64, 64, 64]             128\n",
            "             ReLU-14           [-1, 64, 64, 64]               0\n",
            "           Conv2d-15           [-1, 64, 64, 64]          36,864\n",
            "      BatchNorm2d-16           [-1, 64, 64, 64]             128\n",
            "             ReLU-17           [-1, 64, 64, 64]               0\n",
            "       BasicBlock-18           [-1, 64, 64, 64]               0\n",
            "           Conv2d-19           [-1, 64, 64, 64]          36,864\n",
            "      BatchNorm2d-20           [-1, 64, 64, 64]             128\n",
            "             ReLU-21           [-1, 64, 64, 64]               0\n",
            "           Conv2d-22           [-1, 64, 64, 64]          36,864\n",
            "      BatchNorm2d-23           [-1, 64, 64, 64]             128\n",
            "             ReLU-24           [-1, 64, 64, 64]               0\n",
            "       BasicBlock-25           [-1, 64, 64, 64]               0\n",
            "           Conv2d-26          [-1, 128, 32, 32]          73,728\n",
            "      BatchNorm2d-27          [-1, 128, 32, 32]             256\n",
            "             ReLU-28          [-1, 128, 32, 32]               0\n",
            "           Conv2d-29          [-1, 128, 32, 32]         147,456\n",
            "      BatchNorm2d-30          [-1, 128, 32, 32]             256\n",
            "           Conv2d-31          [-1, 128, 32, 32]           8,192\n",
            "      BatchNorm2d-32          [-1, 128, 32, 32]             256\n",
            "             ReLU-33          [-1, 128, 32, 32]               0\n",
            "       BasicBlock-34          [-1, 128, 32, 32]               0\n",
            "           Conv2d-35          [-1, 128, 32, 32]         147,456\n",
            "      BatchNorm2d-36          [-1, 128, 32, 32]             256\n",
            "             ReLU-37          [-1, 128, 32, 32]               0\n",
            "           Conv2d-38          [-1, 128, 32, 32]         147,456\n",
            "      BatchNorm2d-39          [-1, 128, 32, 32]             256\n",
            "             ReLU-40          [-1, 128, 32, 32]               0\n",
            "       BasicBlock-41          [-1, 128, 32, 32]               0\n",
            "           Conv2d-42          [-1, 128, 32, 32]         147,456\n",
            "      BatchNorm2d-43          [-1, 128, 32, 32]             256\n",
            "             ReLU-44          [-1, 128, 32, 32]               0\n",
            "           Conv2d-45          [-1, 128, 32, 32]         147,456\n",
            "      BatchNorm2d-46          [-1, 128, 32, 32]             256\n",
            "             ReLU-47          [-1, 128, 32, 32]               0\n",
            "       BasicBlock-48          [-1, 128, 32, 32]               0\n",
            "           Conv2d-49          [-1, 128, 32, 32]         147,456\n",
            "      BatchNorm2d-50          [-1, 128, 32, 32]             256\n",
            "             ReLU-51          [-1, 128, 32, 32]               0\n",
            "           Conv2d-52          [-1, 128, 32, 32]         147,456\n",
            "      BatchNorm2d-53          [-1, 128, 32, 32]             256\n",
            "             ReLU-54          [-1, 128, 32, 32]               0\n",
            "       BasicBlock-55          [-1, 128, 32, 32]               0\n",
            "           Conv2d-56          [-1, 256, 16, 16]         294,912\n",
            "      BatchNorm2d-57          [-1, 256, 16, 16]             512\n",
            "             ReLU-58          [-1, 256, 16, 16]               0\n",
            "           Conv2d-59          [-1, 256, 16, 16]         589,824\n",
            "      BatchNorm2d-60          [-1, 256, 16, 16]             512\n",
            "           Conv2d-61          [-1, 256, 16, 16]          32,768\n",
            "      BatchNorm2d-62          [-1, 256, 16, 16]             512\n",
            "             ReLU-63          [-1, 256, 16, 16]               0\n",
            "       BasicBlock-64          [-1, 256, 16, 16]               0\n",
            "           Conv2d-65          [-1, 256, 16, 16]         589,824\n",
            "      BatchNorm2d-66          [-1, 256, 16, 16]             512\n",
            "             ReLU-67          [-1, 256, 16, 16]               0\n",
            "           Conv2d-68          [-1, 256, 16, 16]         589,824\n",
            "      BatchNorm2d-69          [-1, 256, 16, 16]             512\n",
            "             ReLU-70          [-1, 256, 16, 16]               0\n",
            "       BasicBlock-71          [-1, 256, 16, 16]               0\n",
            "           Conv2d-72          [-1, 256, 16, 16]         589,824\n",
            "      BatchNorm2d-73          [-1, 256, 16, 16]             512\n",
            "             ReLU-74          [-1, 256, 16, 16]               0\n",
            "           Conv2d-75          [-1, 256, 16, 16]         589,824\n",
            "      BatchNorm2d-76          [-1, 256, 16, 16]             512\n",
            "             ReLU-77          [-1, 256, 16, 16]               0\n",
            "       BasicBlock-78          [-1, 256, 16, 16]               0\n",
            "           Conv2d-79          [-1, 256, 16, 16]         589,824\n",
            "      BatchNorm2d-80          [-1, 256, 16, 16]             512\n",
            "             ReLU-81          [-1, 256, 16, 16]               0\n",
            "           Conv2d-82          [-1, 256, 16, 16]         589,824\n",
            "      BatchNorm2d-83          [-1, 256, 16, 16]             512\n",
            "             ReLU-84          [-1, 256, 16, 16]               0\n",
            "       BasicBlock-85          [-1, 256, 16, 16]               0\n",
            "           Conv2d-86          [-1, 256, 16, 16]         589,824\n",
            "      BatchNorm2d-87          [-1, 256, 16, 16]             512\n",
            "             ReLU-88          [-1, 256, 16, 16]               0\n",
            "           Conv2d-89          [-1, 256, 16, 16]         589,824\n",
            "      BatchNorm2d-90          [-1, 256, 16, 16]             512\n",
            "             ReLU-91          [-1, 256, 16, 16]               0\n",
            "       BasicBlock-92          [-1, 256, 16, 16]               0\n",
            "           Conv2d-93          [-1, 256, 16, 16]         589,824\n",
            "      BatchNorm2d-94          [-1, 256, 16, 16]             512\n",
            "             ReLU-95          [-1, 256, 16, 16]               0\n",
            "           Conv2d-96          [-1, 256, 16, 16]         589,824\n",
            "      BatchNorm2d-97          [-1, 256, 16, 16]             512\n",
            "             ReLU-98          [-1, 256, 16, 16]               0\n",
            "       BasicBlock-99          [-1, 256, 16, 16]               0\n",
            "          Conv2d-100            [-1, 512, 8, 8]       1,179,648\n",
            "     BatchNorm2d-101            [-1, 512, 8, 8]           1,024\n",
            "            ReLU-102            [-1, 512, 8, 8]               0\n",
            "          Conv2d-103            [-1, 512, 8, 8]       2,359,296\n",
            "     BatchNorm2d-104            [-1, 512, 8, 8]           1,024\n",
            "          Conv2d-105            [-1, 512, 8, 8]         131,072\n",
            "     BatchNorm2d-106            [-1, 512, 8, 8]           1,024\n",
            "            ReLU-107            [-1, 512, 8, 8]               0\n",
            "      BasicBlock-108            [-1, 512, 8, 8]               0\n",
            "          Conv2d-109            [-1, 512, 8, 8]       2,359,296\n",
            "     BatchNorm2d-110            [-1, 512, 8, 8]           1,024\n",
            "            ReLU-111            [-1, 512, 8, 8]               0\n",
            "          Conv2d-112            [-1, 512, 8, 8]       2,359,296\n",
            "     BatchNorm2d-113            [-1, 512, 8, 8]           1,024\n",
            "            ReLU-114            [-1, 512, 8, 8]               0\n",
            "      BasicBlock-115            [-1, 512, 8, 8]               0\n",
            "          Conv2d-116            [-1, 512, 8, 8]       2,359,296\n",
            "     BatchNorm2d-117            [-1, 512, 8, 8]           1,024\n",
            "            ReLU-118            [-1, 512, 8, 8]               0\n",
            "          Conv2d-119            [-1, 512, 8, 8]       2,359,296\n",
            "     BatchNorm2d-120            [-1, 512, 8, 8]           1,024\n",
            "            ReLU-121            [-1, 512, 8, 8]               0\n",
            "      BasicBlock-122            [-1, 512, 8, 8]               0\n",
            "AdaptiveAvgPool2d-123            [-1, 512, 1, 1]               0\n",
            "          Linear-124                   [-1, 10]           5,130\n",
            "================================================================\n",
            "Total params: 21,289,802\n",
            "Trainable params: 19,941,898\n",
            "Non-trainable params: 1,347,904\n",
            "----------------------------------------------------------------\n",
            "Input size (MB): 0.75\n",
            "Forward/backward pass size (MB): 125.75\n",
            "Params size (MB): 81.21\n",
            "Estimated Total Size (MB): 207.72\n",
            "----------------------------------------------------------------\n"
          ],
          "name": "stdout"
        }
      ]
    },
    {
      "cell_type": "code",
      "metadata": {
        "id": "k0eQgUykiumg"
      },
      "source": [
        "criterion = nn.CrossEntropyLoss()\n",
        "optimizer = optim.SGD(teacher.parameters(), lr=1e-3,\n",
        "                      momentum=0.9)\n",
        "exp_lr_scheduler = lr_scheduler.StepLR(optimizer, step_size=7, gamma=0.1)"
      ],
      "execution_count": null,
      "outputs": []
    },
    {
      "cell_type": "code",
      "metadata": {
        "id": "CtcHPi86iuo8",
        "colab": {
          "base_uri": "https://localhost:8080/"
        },
        "outputId": "8d20ded5-a149-4aa2-d0fb-49c92776b21f"
      },
      "source": [
        "# RUN \n",
        "for epoch in range(START_EPOCH,START_EPOCH+20):\n",
        "    train(epoch,teacher)\n",
        "    test(epoch,teacher)\n",
        "    exp_lr_scheduler.step()\n",
        "    torch.save(teacher.state_dict(), f'./teacher_{epoch}.pth')"
      ],
      "execution_count": null,
      "outputs": [
        {
          "output_type": "stream",
          "text": [
            "\n",
            "Epoch: 0\n",
            "Loss: 2.398 | Acc: 6.250% \n",
            "Loss: 1.157 | Acc: 59.634% \n",
            "Loss: 1.012 | Acc: 64.886% \n",
            "Loss: 0.941 | Acc: 67.363% \n",
            "Accuracy of the network on the test images: 91 %\n",
            "\n",
            "Epoch: 1\n",
            "Loss: 0.590 | Acc: 81.250% \n",
            "Loss: 0.729 | Acc: 74.719% \n",
            "Loss: 0.709 | Acc: 75.587% \n",
            "Loss: 0.696 | Acc: 75.987% \n",
            "Accuracy of the network on the test images: 92 %\n",
            "\n",
            "Epoch: 2\n",
            "Loss: 0.287 | Acc: 87.500% \n",
            "Loss: 0.647 | Acc: 77.635% \n",
            "Loss: 0.640 | Acc: 77.805% \n",
            "Loss: 0.629 | Acc: 78.193% \n",
            "Accuracy of the network on the test images: 92 %\n",
            "\n",
            "Epoch: 3\n",
            "Loss: 0.425 | Acc: 81.250% \n",
            "Loss: 0.605 | Acc: 79.283% \n",
            "Loss: 0.595 | Acc: 79.673% \n",
            "Loss: 0.590 | Acc: 79.630% \n",
            "Accuracy of the network on the test images: 92 %\n",
            "\n",
            "Epoch: 4\n",
            "Loss: 0.859 | Acc: 62.500% \n",
            "Loss: 0.554 | Acc: 80.925% \n",
            "Loss: 0.560 | Acc: 80.728% \n",
            "Loss: 0.552 | Acc: 80.988% \n",
            "Accuracy of the network on the test images: 93 %\n",
            "\n",
            "Epoch: 5\n",
            "Loss: 0.732 | Acc: 75.000% \n",
            "Loss: 0.543 | Acc: 81.063% \n",
            "Loss: 0.532 | Acc: 81.506% \n",
            "Loss: 0.531 | Acc: 81.510% \n",
            "Accuracy of the network on the test images: 94 %\n",
            "\n",
            "Epoch: 6\n",
            "Loss: 0.773 | Acc: 81.250% \n",
            "Loss: 0.498 | Acc: 82.705% \n",
            "Loss: 0.505 | Acc: 82.618% \n",
            "Loss: 0.500 | Acc: 82.758% \n",
            "Accuracy of the network on the test images: 94 %\n",
            "\n",
            "Epoch: 7\n",
            "Loss: 0.581 | Acc: 87.500% \n",
            "Loss: 0.459 | Acc: 84.266% \n",
            "Loss: 0.453 | Acc: 84.320% \n",
            "Loss: 0.443 | Acc: 84.559% \n",
            "Accuracy of the network on the test images: 95 %\n",
            "\n",
            "Epoch: 8\n",
            "Loss: 0.148 | Acc: 93.750% \n",
            "Loss: 0.412 | Acc: 85.614% \n",
            "Loss: 0.417 | Acc: 85.482% \n",
            "Loss: 0.422 | Acc: 85.390% \n",
            "Accuracy of the network on the test images: 95 %\n",
            "\n",
            "Epoch: 9\n",
            "Loss: 0.224 | Acc: 100.000% \n",
            "Loss: 0.407 | Acc: 86.026% \n",
            "Loss: 0.408 | Acc: 86.004% \n",
            "Loss: 0.407 | Acc: 86.061% \n",
            "Accuracy of the network on the test images: 95 %\n",
            "\n",
            "Epoch: 10\n",
            "Loss: 0.751 | Acc: 68.750% \n",
            "Loss: 0.399 | Acc: 86.276% \n",
            "Loss: 0.404 | Acc: 86.038% \n",
            "Loss: 0.402 | Acc: 86.059% \n",
            "Accuracy of the network on the test images: 95 %\n",
            "\n",
            "Epoch: 11\n",
            "Loss: 0.211 | Acc: 93.750% \n",
            "Loss: 0.404 | Acc: 86.357% \n",
            "Loss: 0.405 | Acc: 86.160% \n",
            "Loss: 0.400 | Acc: 86.280% \n",
            "Accuracy of the network on the test images: 95 %\n",
            "\n",
            "Epoch: 12\n",
            "Loss: 0.264 | Acc: 87.500% \n",
            "Loss: 0.394 | Acc: 86.513% \n",
            "Loss: 0.394 | Acc: 86.366% \n",
            "Loss: 0.391 | Acc: 86.559% \n",
            "Accuracy of the network on the test images: 95 %\n",
            "\n",
            "Epoch: 13\n",
            "Loss: 0.697 | Acc: 68.750% \n",
            "Loss: 0.385 | Acc: 86.657% \n",
            "Loss: 0.387 | Acc: 86.597% \n",
            "Loss: 0.390 | Acc: 86.552% \n",
            "Accuracy of the network on the test images: 95 %\n",
            "\n",
            "Epoch: 14\n",
            "Loss: 0.419 | Acc: 87.500% \n",
            "Loss: 0.376 | Acc: 87.050% \n",
            "Loss: 0.380 | Acc: 86.916% \n",
            "Loss: 0.380 | Acc: 86.852% \n",
            "Accuracy of the network on the test images: 95 %\n",
            "\n",
            "Epoch: 15\n",
            "Loss: 0.272 | Acc: 93.750% \n",
            "Loss: 0.378 | Acc: 87.050% \n",
            "Loss: 0.377 | Acc: 87.138% \n",
            "Loss: 0.377 | Acc: 87.181% \n",
            "Accuracy of the network on the test images: 95 %\n",
            "\n",
            "Epoch: 16\n",
            "Loss: 0.342 | Acc: 93.750% \n",
            "Loss: 0.379 | Acc: 86.851% \n",
            "Loss: 0.381 | Acc: 86.900% \n",
            "Loss: 0.379 | Acc: 86.929% \n",
            "Accuracy of the network on the test images: 95 %\n",
            "\n",
            "Epoch: 17\n",
            "Loss: 0.273 | Acc: 93.750% \n",
            "Loss: 0.376 | Acc: 87.032% \n",
            "Loss: 0.375 | Acc: 87.213% \n",
            "Loss: 0.377 | Acc: 87.069% \n",
            "Accuracy of the network on the test images: 95 %\n",
            "\n",
            "Epoch: 18\n",
            "Loss: 0.174 | Acc: 100.000% \n",
            "Loss: 0.376 | Acc: 87.188% \n",
            "Loss: 0.375 | Acc: 87.191% \n",
            "Loss: 0.374 | Acc: 87.140% \n",
            "Accuracy of the network on the test images: 95 %\n",
            "\n",
            "Epoch: 19\n",
            "Loss: 0.635 | Acc: 81.250% \n",
            "Loss: 0.379 | Acc: 86.963% \n",
            "Loss: 0.383 | Acc: 86.835% \n",
            "Loss: 0.380 | Acc: 86.827% \n"
          ],
          "name": "stdout"
        }
      ]
    },
    {
      "cell_type": "code",
      "metadata": {
        "id": "vvpj4CBdZBfp"
      },
      "source": [
        "torch.save(teacher.state_dict(), f'./teacher_{epoch}.pth')"
      ],
      "execution_count": null,
      "outputs": []
    },
    {
      "cell_type": "markdown",
      "metadata": {
        "id": "zU2d7oGHddel"
      },
      "source": [
        "# Teacher (ResNet34)의 예측 분포 살펴보기 \n",
        "\n",
        "이번 섹션은 학습 된 Teacher Network 를 가지고 특정 샘플을 예측한 분포를 살펴보도록 하겠습니다. \n"
      ]
    },
    {
      "cell_type": "code",
      "metadata": {
        "id": "Rv5w7yXioFpj",
        "colab": {
          "base_uri": "https://localhost:8080/"
        },
        "outputId": "01220bf0-3919-4239-fcae-abf25d98b22f"
      },
      "source": [
        "# Model Load \n",
        "DICT_PATH = f'./teacher_{epoch}.pth'\n",
        "teacher.load_state_dict(torch.load(DICT_PATH))\n",
        "\n",
        "# freeze\n",
        "for param in teacher.parameters():\n",
        "    param.requires_grad = False\n",
        "    \n",
        "teacher.to(DEVICE)"
      ],
      "execution_count": null,
      "outputs": [
        {
          "output_type": "execute_result",
          "data": {
            "text/plain": [
              "ResNet(\n",
              "  (conv1): Conv2d(3, 64, kernel_size=(7, 7), stride=(2, 2), padding=(3, 3), bias=False)\n",
              "  (bn1): BatchNorm2d(64, eps=1e-05, momentum=0.1, affine=True, track_running_stats=True)\n",
              "  (relu): ReLU(inplace=True)\n",
              "  (maxpool): MaxPool2d(kernel_size=3, stride=2, padding=1, dilation=1, ceil_mode=False)\n",
              "  (layer1): Sequential(\n",
              "    (0): BasicBlock(\n",
              "      (conv1): Conv2d(64, 64, kernel_size=(3, 3), stride=(1, 1), padding=(1, 1), bias=False)\n",
              "      (bn1): BatchNorm2d(64, eps=1e-05, momentum=0.1, affine=True, track_running_stats=True)\n",
              "      (relu): ReLU(inplace=True)\n",
              "      (conv2): Conv2d(64, 64, kernel_size=(3, 3), stride=(1, 1), padding=(1, 1), bias=False)\n",
              "      (bn2): BatchNorm2d(64, eps=1e-05, momentum=0.1, affine=True, track_running_stats=True)\n",
              "    )\n",
              "    (1): BasicBlock(\n",
              "      (conv1): Conv2d(64, 64, kernel_size=(3, 3), stride=(1, 1), padding=(1, 1), bias=False)\n",
              "      (bn1): BatchNorm2d(64, eps=1e-05, momentum=0.1, affine=True, track_running_stats=True)\n",
              "      (relu): ReLU(inplace=True)\n",
              "      (conv2): Conv2d(64, 64, kernel_size=(3, 3), stride=(1, 1), padding=(1, 1), bias=False)\n",
              "      (bn2): BatchNorm2d(64, eps=1e-05, momentum=0.1, affine=True, track_running_stats=True)\n",
              "    )\n",
              "    (2): BasicBlock(\n",
              "      (conv1): Conv2d(64, 64, kernel_size=(3, 3), stride=(1, 1), padding=(1, 1), bias=False)\n",
              "      (bn1): BatchNorm2d(64, eps=1e-05, momentum=0.1, affine=True, track_running_stats=True)\n",
              "      (relu): ReLU(inplace=True)\n",
              "      (conv2): Conv2d(64, 64, kernel_size=(3, 3), stride=(1, 1), padding=(1, 1), bias=False)\n",
              "      (bn2): BatchNorm2d(64, eps=1e-05, momentum=0.1, affine=True, track_running_stats=True)\n",
              "    )\n",
              "  )\n",
              "  (layer2): Sequential(\n",
              "    (0): BasicBlock(\n",
              "      (conv1): Conv2d(64, 128, kernel_size=(3, 3), stride=(2, 2), padding=(1, 1), bias=False)\n",
              "      (bn1): BatchNorm2d(128, eps=1e-05, momentum=0.1, affine=True, track_running_stats=True)\n",
              "      (relu): ReLU(inplace=True)\n",
              "      (conv2): Conv2d(128, 128, kernel_size=(3, 3), stride=(1, 1), padding=(1, 1), bias=False)\n",
              "      (bn2): BatchNorm2d(128, eps=1e-05, momentum=0.1, affine=True, track_running_stats=True)\n",
              "      (downsample): Sequential(\n",
              "        (0): Conv2d(64, 128, kernel_size=(1, 1), stride=(2, 2), bias=False)\n",
              "        (1): BatchNorm2d(128, eps=1e-05, momentum=0.1, affine=True, track_running_stats=True)\n",
              "      )\n",
              "    )\n",
              "    (1): BasicBlock(\n",
              "      (conv1): Conv2d(128, 128, kernel_size=(3, 3), stride=(1, 1), padding=(1, 1), bias=False)\n",
              "      (bn1): BatchNorm2d(128, eps=1e-05, momentum=0.1, affine=True, track_running_stats=True)\n",
              "      (relu): ReLU(inplace=True)\n",
              "      (conv2): Conv2d(128, 128, kernel_size=(3, 3), stride=(1, 1), padding=(1, 1), bias=False)\n",
              "      (bn2): BatchNorm2d(128, eps=1e-05, momentum=0.1, affine=True, track_running_stats=True)\n",
              "    )\n",
              "    (2): BasicBlock(\n",
              "      (conv1): Conv2d(128, 128, kernel_size=(3, 3), stride=(1, 1), padding=(1, 1), bias=False)\n",
              "      (bn1): BatchNorm2d(128, eps=1e-05, momentum=0.1, affine=True, track_running_stats=True)\n",
              "      (relu): ReLU(inplace=True)\n",
              "      (conv2): Conv2d(128, 128, kernel_size=(3, 3), stride=(1, 1), padding=(1, 1), bias=False)\n",
              "      (bn2): BatchNorm2d(128, eps=1e-05, momentum=0.1, affine=True, track_running_stats=True)\n",
              "    )\n",
              "    (3): BasicBlock(\n",
              "      (conv1): Conv2d(128, 128, kernel_size=(3, 3), stride=(1, 1), padding=(1, 1), bias=False)\n",
              "      (bn1): BatchNorm2d(128, eps=1e-05, momentum=0.1, affine=True, track_running_stats=True)\n",
              "      (relu): ReLU(inplace=True)\n",
              "      (conv2): Conv2d(128, 128, kernel_size=(3, 3), stride=(1, 1), padding=(1, 1), bias=False)\n",
              "      (bn2): BatchNorm2d(128, eps=1e-05, momentum=0.1, affine=True, track_running_stats=True)\n",
              "    )\n",
              "  )\n",
              "  (layer3): Sequential(\n",
              "    (0): BasicBlock(\n",
              "      (conv1): Conv2d(128, 256, kernel_size=(3, 3), stride=(2, 2), padding=(1, 1), bias=False)\n",
              "      (bn1): BatchNorm2d(256, eps=1e-05, momentum=0.1, affine=True, track_running_stats=True)\n",
              "      (relu): ReLU(inplace=True)\n",
              "      (conv2): Conv2d(256, 256, kernel_size=(3, 3), stride=(1, 1), padding=(1, 1), bias=False)\n",
              "      (bn2): BatchNorm2d(256, eps=1e-05, momentum=0.1, affine=True, track_running_stats=True)\n",
              "      (downsample): Sequential(\n",
              "        (0): Conv2d(128, 256, kernel_size=(1, 1), stride=(2, 2), bias=False)\n",
              "        (1): BatchNorm2d(256, eps=1e-05, momentum=0.1, affine=True, track_running_stats=True)\n",
              "      )\n",
              "    )\n",
              "    (1): BasicBlock(\n",
              "      (conv1): Conv2d(256, 256, kernel_size=(3, 3), stride=(1, 1), padding=(1, 1), bias=False)\n",
              "      (bn1): BatchNorm2d(256, eps=1e-05, momentum=0.1, affine=True, track_running_stats=True)\n",
              "      (relu): ReLU(inplace=True)\n",
              "      (conv2): Conv2d(256, 256, kernel_size=(3, 3), stride=(1, 1), padding=(1, 1), bias=False)\n",
              "      (bn2): BatchNorm2d(256, eps=1e-05, momentum=0.1, affine=True, track_running_stats=True)\n",
              "    )\n",
              "    (2): BasicBlock(\n",
              "      (conv1): Conv2d(256, 256, kernel_size=(3, 3), stride=(1, 1), padding=(1, 1), bias=False)\n",
              "      (bn1): BatchNorm2d(256, eps=1e-05, momentum=0.1, affine=True, track_running_stats=True)\n",
              "      (relu): ReLU(inplace=True)\n",
              "      (conv2): Conv2d(256, 256, kernel_size=(3, 3), stride=(1, 1), padding=(1, 1), bias=False)\n",
              "      (bn2): BatchNorm2d(256, eps=1e-05, momentum=0.1, affine=True, track_running_stats=True)\n",
              "    )\n",
              "    (3): BasicBlock(\n",
              "      (conv1): Conv2d(256, 256, kernel_size=(3, 3), stride=(1, 1), padding=(1, 1), bias=False)\n",
              "      (bn1): BatchNorm2d(256, eps=1e-05, momentum=0.1, affine=True, track_running_stats=True)\n",
              "      (relu): ReLU(inplace=True)\n",
              "      (conv2): Conv2d(256, 256, kernel_size=(3, 3), stride=(1, 1), padding=(1, 1), bias=False)\n",
              "      (bn2): BatchNorm2d(256, eps=1e-05, momentum=0.1, affine=True, track_running_stats=True)\n",
              "    )\n",
              "    (4): BasicBlock(\n",
              "      (conv1): Conv2d(256, 256, kernel_size=(3, 3), stride=(1, 1), padding=(1, 1), bias=False)\n",
              "      (bn1): BatchNorm2d(256, eps=1e-05, momentum=0.1, affine=True, track_running_stats=True)\n",
              "      (relu): ReLU(inplace=True)\n",
              "      (conv2): Conv2d(256, 256, kernel_size=(3, 3), stride=(1, 1), padding=(1, 1), bias=False)\n",
              "      (bn2): BatchNorm2d(256, eps=1e-05, momentum=0.1, affine=True, track_running_stats=True)\n",
              "    )\n",
              "    (5): BasicBlock(\n",
              "      (conv1): Conv2d(256, 256, kernel_size=(3, 3), stride=(1, 1), padding=(1, 1), bias=False)\n",
              "      (bn1): BatchNorm2d(256, eps=1e-05, momentum=0.1, affine=True, track_running_stats=True)\n",
              "      (relu): ReLU(inplace=True)\n",
              "      (conv2): Conv2d(256, 256, kernel_size=(3, 3), stride=(1, 1), padding=(1, 1), bias=False)\n",
              "      (bn2): BatchNorm2d(256, eps=1e-05, momentum=0.1, affine=True, track_running_stats=True)\n",
              "    )\n",
              "  )\n",
              "  (layer4): Sequential(\n",
              "    (0): BasicBlock(\n",
              "      (conv1): Conv2d(256, 512, kernel_size=(3, 3), stride=(2, 2), padding=(1, 1), bias=False)\n",
              "      (bn1): BatchNorm2d(512, eps=1e-05, momentum=0.1, affine=True, track_running_stats=True)\n",
              "      (relu): ReLU(inplace=True)\n",
              "      (conv2): Conv2d(512, 512, kernel_size=(3, 3), stride=(1, 1), padding=(1, 1), bias=False)\n",
              "      (bn2): BatchNorm2d(512, eps=1e-05, momentum=0.1, affine=True, track_running_stats=True)\n",
              "      (downsample): Sequential(\n",
              "        (0): Conv2d(256, 512, kernel_size=(1, 1), stride=(2, 2), bias=False)\n",
              "        (1): BatchNorm2d(512, eps=1e-05, momentum=0.1, affine=True, track_running_stats=True)\n",
              "      )\n",
              "    )\n",
              "    (1): BasicBlock(\n",
              "      (conv1): Conv2d(512, 512, kernel_size=(3, 3), stride=(1, 1), padding=(1, 1), bias=False)\n",
              "      (bn1): BatchNorm2d(512, eps=1e-05, momentum=0.1, affine=True, track_running_stats=True)\n",
              "      (relu): ReLU(inplace=True)\n",
              "      (conv2): Conv2d(512, 512, kernel_size=(3, 3), stride=(1, 1), padding=(1, 1), bias=False)\n",
              "      (bn2): BatchNorm2d(512, eps=1e-05, momentum=0.1, affine=True, track_running_stats=True)\n",
              "    )\n",
              "    (2): BasicBlock(\n",
              "      (conv1): Conv2d(512, 512, kernel_size=(3, 3), stride=(1, 1), padding=(1, 1), bias=False)\n",
              "      (bn1): BatchNorm2d(512, eps=1e-05, momentum=0.1, affine=True, track_running_stats=True)\n",
              "      (relu): ReLU(inplace=True)\n",
              "      (conv2): Conv2d(512, 512, kernel_size=(3, 3), stride=(1, 1), padding=(1, 1), bias=False)\n",
              "      (bn2): BatchNorm2d(512, eps=1e-05, momentum=0.1, affine=True, track_running_stats=True)\n",
              "    )\n",
              "  )\n",
              "  (avgpool): AdaptiveAvgPool2d(output_size=(1, 1))\n",
              "  (fc): Linear(in_features=512, out_features=10, bias=True)\n",
              ")"
            ]
          },
          "metadata": {
            "tags": []
          },
          "execution_count": 21
        }
      ]
    },
    {
      "cell_type": "code",
      "metadata": {
        "id": "nksMjsaveVyb",
        "colab": {
          "base_uri": "https://localhost:8080/"
        },
        "outputId": "4e473356-7a17-40c1-ca7e-f0796f73fc64"
      },
      "source": [
        "# Select one single image \n",
        "import matplotlib.pyplot as plt \n",
        "import numpy as np \n",
        "select_num = int(input())\n",
        "selected_images = testset.__getitem__(select_num)[0] # img\n",
        "selected_labels = testset.__getitem__(select_num)[1]  #label"
      ],
      "execution_count": null,
      "outputs": [
        {
          "output_type": "stream",
          "text": [
            "0\n"
          ],
          "name": "stdout"
        }
      ]
    },
    {
      "cell_type": "code",
      "metadata": {
        "id": "Fv4g9UYzeY60",
        "colab": {
          "base_uri": "https://localhost:8080/",
          "height": 281
        },
        "outputId": "250d0bef-4bdf-4a1b-dd58-fa88ce84feaa"
      },
      "source": [
        "# display \n",
        "img = selected_images # selected img\n",
        "img = np.moveaxis(img.numpy(), 0, -1) # reshape and moveaxis \n",
        "\n",
        "plt.figure(figsize=(4,4))\n",
        "plt.title('Labels: {}'.format(selected_labels))\n",
        "plt.imshow(np.clip(img, 0, 1))\n",
        "plt.show()"
      ],
      "execution_count": null,
      "outputs": [
        {
          "output_type": "display_data",
          "data": {
            "image/png": "[encoded data removed]",
            "text/plain": [
              "<Figure size 288x288 with 1 Axes>"
            ]
          },
          "metadata": {
            "tags": [],
            "needs_background": "light"
          }
        }
      ]
    },
    {
      "cell_type": "code",
      "metadata": {
        "id": "wtKcGnTqh_Nh",
        "colab": {
          "base_uri": "https://localhost:8080/",
          "height": 295
        },
        "outputId": "6d3d8906-d63b-451e-f142-0984eee03c76"
      },
      "source": [
        "import pandas as pd\n",
        "# Check distribution\n",
        "teacher_outputs = teacher(torch.unsqueeze(selected_images, 0).to(DEVICE))\n",
        "\n",
        "# list of Temperature \n",
        "T_list = [1,5,10,20,30]\n",
        "output_dic ={}\n",
        "\n",
        "for i in T_list:\n",
        "  output_dic[i] = F.softmax(teacher_outputs/i, dim=1).cpu().numpy().squeeze() # softmax\n",
        "\n",
        "# display\n",
        "pd.DataFrame(output_dic).plot(title=f'Distribution of {selected_labels}')\n",
        "plt.legend(title=' Temperature', labelspacing=1, \n",
        "           bbox_to_anchor=(1.03,0), loc='lower left')\n",
        "plt.xlabel('Categories')\n",
        "plt.ylabel('Softmax value')\n",
        "plt.xticks([0,1,2,3,4,5,6,7,8,9])\n",
        "plt.show()                                             "
      ],
      "execution_count": null,
      "outputs": [
        {
          "output_type": "display_data",
          "data": {
            "image/png": "[encoded data removed]",
            "text/plain": [
              "<Figure size 432x288 with 1 Axes>"
            ]
          },
          "metadata": {
            "tags": [],
            "needs_background": "light"
          }
        }
      ]
    },
    {
      "cell_type": "markdown",
      "metadata": {
        "id": "dc98txKRj0Re"
      },
      "source": [
        "# STEP 2\n",
        "\n",
        "앞서 학습된 Teacher Network를 가지고 Student Network 에 KD(knowledge distillation)을 하는 단계입니다. \n",
        "여기서 Student Network 는 'ResNet18'을 사용 하겠습니다. \n"
      ]
    },
    {
      "cell_type": "markdown",
      "metadata": {
        "id": "sNLE8can8elu"
      },
      "source": [
        "<center><img src='https://www.programmersought.com/images/67/f941fa481a9d8987b5022f1a8bade653.png' width=50%></center>\n",
        "<center> <em>ResNet18의 구조</em></center>"
      ]
    },
    {
      "cell_type": "markdown",
      "metadata": {
        "id": "HYT07IT1HWLe"
      },
      "source": [
        "\n",
        "\n",
        "*여기서 잠깐 복습*\n",
        "\n",
        "$$ L(x;w) = \\alpha * KL(teacher, student) + (1-\\alpha)*Cross-Entropy(y,student)$$\n",
        "\n",
        "본 단계에서의 변수는 다음과 같이 설정 하도록 하겠습니다. \n",
        "```\n",
        "Teacher: ResNet34(pretrained)\n",
        "Student: ResNet18\n",
        "Alpha = 0.3 \n",
        "Temperature = 2 # KD divergence ratio\n",
        "```"
      ]
    },
    {
      "cell_type": "code",
      "metadata": {
        "id": "Eig6aLpGkgvX"
      },
      "source": [
        "# ALPHA & TEMPERATURE \n",
        "TEMPERATURE = 2\n",
        "ALPHA = 0.3 "
      ],
      "execution_count": null,
      "outputs": []
    },
    {
      "cell_type": "code",
      "metadata": {
        "id": "BroVq2nZiuti",
        "colab": {
          "base_uri": "https://localhost:8080/"
        },
        "outputId": "53d1f950-9576-414f-9320-a9f70c1aeb45"
      },
      "source": [
        "# Load Teacher dict \n",
        "DICT_PATH = 'teacher_19.pth'\n",
        "\n",
        "teacher.load_state_dict(torch.load(DICT_PATH,))\n",
        "for param in teacher.parameters():\n",
        "    param.requires_grad = False\n",
        "    \n",
        "teacher.to(DEVICE)"
      ],
      "execution_count": null,
      "outputs": [
        {
          "output_type": "execute_result",
          "data": {
            "text/plain": [
              "ResNet(\n",
              "  (conv1): Conv2d(3, 64, kernel_size=(7, 7), stride=(2, 2), padding=(3, 3), bias=False)\n",
              "  (bn1): BatchNorm2d(64, eps=1e-05, momentum=0.1, affine=True, track_running_stats=True)\n",
              "  (relu): ReLU(inplace=True)\n",
              "  (maxpool): MaxPool2d(kernel_size=3, stride=2, padding=1, dilation=1, ceil_mode=False)\n",
              "  (layer1): Sequential(\n",
              "    (0): BasicBlock(\n",
              "      (conv1): Conv2d(64, 64, kernel_size=(3, 3), stride=(1, 1), padding=(1, 1), bias=False)\n",
              "      (bn1): BatchNorm2d(64, eps=1e-05, momentum=0.1, affine=True, track_running_stats=True)\n",
              "      (relu): ReLU(inplace=True)\n",
              "      (conv2): Conv2d(64, 64, kernel_size=(3, 3), stride=(1, 1), padding=(1, 1), bias=False)\n",
              "      (bn2): BatchNorm2d(64, eps=1e-05, momentum=0.1, affine=True, track_running_stats=True)\n",
              "    )\n",
              "    (1): BasicBlock(\n",
              "      (conv1): Conv2d(64, 64, kernel_size=(3, 3), stride=(1, 1), padding=(1, 1), bias=False)\n",
              "      (bn1): BatchNorm2d(64, eps=1e-05, momentum=0.1, affine=True, track_running_stats=True)\n",
              "      (relu): ReLU(inplace=True)\n",
              "      (conv2): Conv2d(64, 64, kernel_size=(3, 3), stride=(1, 1), padding=(1, 1), bias=False)\n",
              "      (bn2): BatchNorm2d(64, eps=1e-05, momentum=0.1, affine=True, track_running_stats=True)\n",
              "    )\n",
              "    (2): BasicBlock(\n",
              "      (conv1): Conv2d(64, 64, kernel_size=(3, 3), stride=(1, 1), padding=(1, 1), bias=False)\n",
              "      (bn1): BatchNorm2d(64, eps=1e-05, momentum=0.1, affine=True, track_running_stats=True)\n",
              "      (relu): ReLU(inplace=True)\n",
              "      (conv2): Conv2d(64, 64, kernel_size=(3, 3), stride=(1, 1), padding=(1, 1), bias=False)\n",
              "      (bn2): BatchNorm2d(64, eps=1e-05, momentum=0.1, affine=True, track_running_stats=True)\n",
              "    )\n",
              "  )\n",
              "  (layer2): Sequential(\n",
              "    (0): BasicBlock(\n",
              "      (conv1): Conv2d(64, 128, kernel_size=(3, 3), stride=(2, 2), padding=(1, 1), bias=False)\n",
              "      (bn1): BatchNorm2d(128, eps=1e-05, momentum=0.1, affine=True, track_running_stats=True)\n",
              "      (relu): ReLU(inplace=True)\n",
              "      (conv2): Conv2d(128, 128, kernel_size=(3, 3), stride=(1, 1), padding=(1, 1), bias=False)\n",
              "      (bn2): BatchNorm2d(128, eps=1e-05, momentum=0.1, affine=True, track_running_stats=True)\n",
              "      (downsample): Sequential(\n",
              "        (0): Conv2d(64, 128, kernel_size=(1, 1), stride=(2, 2), bias=False)\n",
              "        (1): BatchNorm2d(128, eps=1e-05, momentum=0.1, affine=True, track_running_stats=True)\n",
              "      )\n",
              "    )\n",
              "    (1): BasicBlock(\n",
              "      (conv1): Conv2d(128, 128, kernel_size=(3, 3), stride=(1, 1), padding=(1, 1), bias=False)\n",
              "      (bn1): BatchNorm2d(128, eps=1e-05, momentum=0.1, affine=True, track_running_stats=True)\n",
              "      (relu): ReLU(inplace=True)\n",
              "      (conv2): Conv2d(128, 128, kernel_size=(3, 3), stride=(1, 1), padding=(1, 1), bias=False)\n",
              "      (bn2): BatchNorm2d(128, eps=1e-05, momentum=0.1, affine=True, track_running_stats=True)\n",
              "    )\n",
              "    (2): BasicBlock(\n",
              "      (conv1): Conv2d(128, 128, kernel_size=(3, 3), stride=(1, 1), padding=(1, 1), bias=False)\n",
              "      (bn1): BatchNorm2d(128, eps=1e-05, momentum=0.1, affine=True, track_running_stats=True)\n",
              "      (relu): ReLU(inplace=True)\n",
              "      (conv2): Conv2d(128, 128, kernel_size=(3, 3), stride=(1, 1), padding=(1, 1), bias=False)\n",
              "      (bn2): BatchNorm2d(128, eps=1e-05, momentum=0.1, affine=True, track_running_stats=True)\n",
              "    )\n",
              "    (3): BasicBlock(\n",
              "      (conv1): Conv2d(128, 128, kernel_size=(3, 3), stride=(1, 1), padding=(1, 1), bias=False)\n",
              "      (bn1): BatchNorm2d(128, eps=1e-05, momentum=0.1, affine=True, track_running_stats=True)\n",
              "      (relu): ReLU(inplace=True)\n",
              "      (conv2): Conv2d(128, 128, kernel_size=(3, 3), stride=(1, 1), padding=(1, 1), bias=False)\n",
              "      (bn2): BatchNorm2d(128, eps=1e-05, momentum=0.1, affine=True, track_running_stats=True)\n",
              "    )\n",
              "  )\n",
              "  (layer3): Sequential(\n",
              "    (0): BasicBlock(\n",
              "      (conv1): Conv2d(128, 256, kernel_size=(3, 3), stride=(2, 2), padding=(1, 1), bias=False)\n",
              "      (bn1): BatchNorm2d(256, eps=1e-05, momentum=0.1, affine=True, track_running_stats=True)\n",
              "      (relu): ReLU(inplace=True)\n",
              "      (conv2): Conv2d(256, 256, kernel_size=(3, 3), stride=(1, 1), padding=(1, 1), bias=False)\n",
              "      (bn2): BatchNorm2d(256, eps=1e-05, momentum=0.1, affine=True, track_running_stats=True)\n",
              "      (downsample): Sequential(\n",
              "        (0): Conv2d(128, 256, kernel_size=(1, 1), stride=(2, 2), bias=False)\n",
              "        (1): BatchNorm2d(256, eps=1e-05, momentum=0.1, affine=True, track_running_stats=True)\n",
              "      )\n",
              "    )\n",
              "    (1): BasicBlock(\n",
              "      (conv1): Conv2d(256, 256, kernel_size=(3, 3), stride=(1, 1), padding=(1, 1), bias=False)\n",
              "      (bn1): BatchNorm2d(256, eps=1e-05, momentum=0.1, affine=True, track_running_stats=True)\n",
              "      (relu): ReLU(inplace=True)\n",
              "      (conv2): Conv2d(256, 256, kernel_size=(3, 3), stride=(1, 1), padding=(1, 1), bias=False)\n",
              "      (bn2): BatchNorm2d(256, eps=1e-05, momentum=0.1, affine=True, track_running_stats=True)\n",
              "    )\n",
              "    (2): BasicBlock(\n",
              "      (conv1): Conv2d(256, 256, kernel_size=(3, 3), stride=(1, 1), padding=(1, 1), bias=False)\n",
              "      (bn1): BatchNorm2d(256, eps=1e-05, momentum=0.1, affine=True, track_running_stats=True)\n",
              "      (relu): ReLU(inplace=True)\n",
              "      (conv2): Conv2d(256, 256, kernel_size=(3, 3), stride=(1, 1), padding=(1, 1), bias=False)\n",
              "      (bn2): BatchNorm2d(256, eps=1e-05, momentum=0.1, affine=True, track_running_stats=True)\n",
              "    )\n",
              "    (3): BasicBlock(\n",
              "      (conv1): Conv2d(256, 256, kernel_size=(3, 3), stride=(1, 1), padding=(1, 1), bias=False)\n",
              "      (bn1): BatchNorm2d(256, eps=1e-05, momentum=0.1, affine=True, track_running_stats=True)\n",
              "      (relu): ReLU(inplace=True)\n",
              "      (conv2): Conv2d(256, 256, kernel_size=(3, 3), stride=(1, 1), padding=(1, 1), bias=False)\n",
              "      (bn2): BatchNorm2d(256, eps=1e-05, momentum=0.1, affine=True, track_running_stats=True)\n",
              "    )\n",
              "    (4): BasicBlock(\n",
              "      (conv1): Conv2d(256, 256, kernel_size=(3, 3), stride=(1, 1), padding=(1, 1), bias=False)\n",
              "      (bn1): BatchNorm2d(256, eps=1e-05, momentum=0.1, affine=True, track_running_stats=True)\n",
              "      (relu): ReLU(inplace=True)\n",
              "      (conv2): Conv2d(256, 256, kernel_size=(3, 3), stride=(1, 1), padding=(1, 1), bias=False)\n",
              "      (bn2): BatchNorm2d(256, eps=1e-05, momentum=0.1, affine=True, track_running_stats=True)\n",
              "    )\n",
              "    (5): BasicBlock(\n",
              "      (conv1): Conv2d(256, 256, kernel_size=(3, 3), stride=(1, 1), padding=(1, 1), bias=False)\n",
              "      (bn1): BatchNorm2d(256, eps=1e-05, momentum=0.1, affine=True, track_running_stats=True)\n",
              "      (relu): ReLU(inplace=True)\n",
              "      (conv2): Conv2d(256, 256, kernel_size=(3, 3), stride=(1, 1), padding=(1, 1), bias=False)\n",
              "      (bn2): BatchNorm2d(256, eps=1e-05, momentum=0.1, affine=True, track_running_stats=True)\n",
              "    )\n",
              "  )\n",
              "  (layer4): Sequential(\n",
              "    (0): BasicBlock(\n",
              "      (conv1): Conv2d(256, 512, kernel_size=(3, 3), stride=(2, 2), padding=(1, 1), bias=False)\n",
              "      (bn1): BatchNorm2d(512, eps=1e-05, momentum=0.1, affine=True, track_running_stats=True)\n",
              "      (relu): ReLU(inplace=True)\n",
              "      (conv2): Conv2d(512, 512, kernel_size=(3, 3), stride=(1, 1), padding=(1, 1), bias=False)\n",
              "      (bn2): BatchNorm2d(512, eps=1e-05, momentum=0.1, affine=True, track_running_stats=True)\n",
              "      (downsample): Sequential(\n",
              "        (0): Conv2d(256, 512, kernel_size=(1, 1), stride=(2, 2), bias=False)\n",
              "        (1): BatchNorm2d(512, eps=1e-05, momentum=0.1, affine=True, track_running_stats=True)\n",
              "      )\n",
              "    )\n",
              "    (1): BasicBlock(\n",
              "      (conv1): Conv2d(512, 512, kernel_size=(3, 3), stride=(1, 1), padding=(1, 1), bias=False)\n",
              "      (bn1): BatchNorm2d(512, eps=1e-05, momentum=0.1, affine=True, track_running_stats=True)\n",
              "      (relu): ReLU(inplace=True)\n",
              "      (conv2): Conv2d(512, 512, kernel_size=(3, 3), stride=(1, 1), padding=(1, 1), bias=False)\n",
              "      (bn2): BatchNorm2d(512, eps=1e-05, momentum=0.1, affine=True, track_running_stats=True)\n",
              "    )\n",
              "    (2): BasicBlock(\n",
              "      (conv1): Conv2d(512, 512, kernel_size=(3, 3), stride=(1, 1), padding=(1, 1), bias=False)\n",
              "      (bn1): BatchNorm2d(512, eps=1e-05, momentum=0.1, affine=True, track_running_stats=True)\n",
              "      (relu): ReLU(inplace=True)\n",
              "      (conv2): Conv2d(512, 512, kernel_size=(3, 3), stride=(1, 1), padding=(1, 1), bias=False)\n",
              "      (bn2): BatchNorm2d(512, eps=1e-05, momentum=0.1, affine=True, track_running_stats=True)\n",
              "    )\n",
              "  )\n",
              "  (avgpool): AdaptiveAvgPool2d(output_size=(1, 1))\n",
              "  (fc): Linear(in_features=512, out_features=10, bias=True)\n",
              ")"
            ]
          },
          "metadata": {
            "tags": []
          },
          "execution_count": 17
        }
      ]
    },
    {
      "cell_type": "code",
      "metadata": {
        "id": "3pvDNi1ZkOzT"
      },
      "source": [
        "student = models.__dict__['resnet18']()\n",
        "in_features = student.fc.in_features\n",
        "student.fc = nn.Linear(in_features,10)\n",
        "\n",
        "\n",
        "student.to(DEVICE)\n",
        "criterion = nn.CrossEntropyLoss()\n",
        "optimizer = optim.SGD(student.parameters(), lr=1e-3,\n",
        "                      momentum=0.9, weight_decay=5e-4)"
      ],
      "execution_count": null,
      "outputs": []
    },
    {
      "cell_type": "code",
      "metadata": {
        "id": "xc9o6eSFkO1u",
        "colab": {
          "base_uri": "https://localhost:8080/"
        },
        "outputId": "4e90ecfd-ba00-48f7-ba97-768afd082a4c"
      },
      "source": [
        "print('[INFO] START KD')\n",
        "print('- KD temperature {}'.format(TEMPERATURE))\n",
        "print('- KD alpha {}'.format(ALPHA))\n",
        "for epoch in range(0, START_EPOCH+10):\n",
        "    train_distillation(epoch,student, teacher,TEMPERATURE, ALPHA)\n",
        "    test(epoch,student)"
      ],
      "execution_count": null,
      "outputs": [
        {
          "output_type": "stream",
          "text": [
            "[INFO] START KD\n",
            "- KD temperature 2\n",
            "- KD alpha 0.3\n",
            "\n",
            "Epoch: 0\n",
            "Loss: 3.263 | Acc: 18.750% \n",
            "Loss: 2.849 | Acc: 25.943% \n",
            "Loss: 2.726 | Acc: 29.810% \n",
            "Loss: 2.632 | Acc: 32.171% \n",
            "Accuracy of the network on the test images: 44 %\n",
            "\n",
            "Epoch: 1\n",
            "Loss: 2.903 | Acc: 50.000% \n",
            "Loss: 2.307 | Acc: 40.478% \n",
            "Loss: 2.240 | Acc: 42.191% \n",
            "Loss: 2.186 | Acc: 43.538% \n",
            "Accuracy of the network on the test images: 58 %\n",
            "\n",
            "Epoch: 2\n",
            "Loss: 2.470 | Acc: 37.500% \n",
            "Loss: 1.980 | Acc: 48.795% \n",
            "Loss: 1.934 | Acc: 49.884% \n",
            "Loss: 1.892 | Acc: 50.939% \n",
            "Accuracy of the network on the test images: 58 %\n",
            "\n",
            "Epoch: 3\n",
            "Loss: 1.755 | Acc: 50.000% \n",
            "Loss: 1.749 | Acc: 54.252% \n",
            "Loss: 1.713 | Acc: 54.854% \n",
            "Loss: 1.685 | Acc: 55.402% \n",
            "Accuracy of the network on the test images: 68 %\n",
            "\n",
            "Epoch: 4\n",
            "Loss: 1.511 | Acc: 62.500% \n",
            "Loss: 1.576 | Acc: 58.248% \n",
            "Loss: 1.556 | Acc: 58.674% \n",
            "Loss: 1.539 | Acc: 59.016% \n",
            "Accuracy of the network on the test images: 67 %\n",
            "\n",
            "Epoch: 5\n",
            "Loss: 1.027 | Acc: 81.250% \n",
            "Loss: 1.454 | Acc: 60.770% \n",
            "Loss: 1.442 | Acc: 61.048% \n",
            "Loss: 1.426 | Acc: 61.371% \n",
            "Accuracy of the network on the test images: 67 %\n",
            "\n",
            "Epoch: 6\n",
            "Loss: 2.443 | Acc: 31.250% \n",
            "Loss: 1.338 | Acc: 63.487% \n",
            "Loss: 1.340 | Acc: 63.259% \n",
            "Loss: 1.329 | Acc: 63.435% \n",
            "Accuracy of the network on the test images: 74 %\n",
            "\n",
            "Epoch: 7\n",
            "Loss: 1.660 | Acc: 43.750% \n",
            "Loss: 1.281 | Acc: 64.798% \n",
            "Loss: 1.275 | Acc: 64.727% \n",
            "Loss: 1.263 | Acc: 65.168% \n",
            "Accuracy of the network on the test images: 77 %\n",
            "\n",
            "Epoch: 8\n",
            "Loss: 2.232 | Acc: 56.250% \n",
            "Loss: 1.203 | Acc: 66.615% \n",
            "Loss: 1.196 | Acc: 66.920% \n",
            "Loss: 1.191 | Acc: 66.992% \n",
            "Accuracy of the network on the test images: 78 %\n",
            "\n",
            "Epoch: 9\n",
            "Loss: 0.968 | Acc: 87.500% \n",
            "Loss: 1.156 | Acc: 67.745% \n",
            "Loss: 1.150 | Acc: 67.838% \n",
            "Loss: 1.141 | Acc: 67.846% \n",
            "Accuracy of the network on the test images: 77 %\n"
          ],
          "name": "stdout"
        }
      ]
    },
    {
      "cell_type": "code",
      "metadata": {
        "id": "JZ9xjU2EdbZj",
        "colab": {
          "base_uri": "https://localhost:8080/"
        },
        "outputId": "0596256f-0555-4252-e28b-064306d35ee1"
      },
      "source": [
        "# train student alone\n",
        "student = models.__dict__['resnet18']()\n",
        "in_features = student.fc.in_features\n",
        "student.fc = nn.Linear(in_features,10)\n",
        "\n",
        "\n",
        "student.to(DEVICE)\n",
        "criterion = nn.CrossEntropyLoss()\n",
        "optimizer = optim.SGD(student.parameters(), lr=1e-3,\n",
        "                      momentum=0.9, weight_decay=5e-4)\n",
        "\n",
        "print('[INFO] START training student alone')\n",
        "for epoch in range(0, START_EPOCH+10):\n",
        "    train(epoch,student)\n",
        "    test(epoch,student)"
      ],
      "execution_count": null,
      "outputs": [
        {
          "output_type": "stream",
          "text": [
            "[INFO] START training student alone\n",
            "\n",
            "Epoch: 0\n",
            "Loss: 2.188 | Acc: 31.250% \n",
            "Loss: 1.986 | Acc: 25.406% \n",
            "Loss: 1.913 | Acc: 28.929% \n",
            "Loss: 1.857 | Acc: 31.321% \n",
            "Accuracy of the network on the test images: 47 %\n",
            "\n",
            "Epoch: 1\n",
            "Loss: 1.800 | Acc: 43.750% \n",
            "Loss: 1.686 | Acc: 38.955% \n",
            "Loss: 1.642 | Acc: 40.814% \n",
            "Loss: 1.613 | Acc: 42.015% \n",
            "Accuracy of the network on the test images: 50 %\n",
            "\n",
            "Epoch: 2\n",
            "Loss: 1.486 | Acc: 50.000% \n",
            "Loss: 1.496 | Acc: 46.591% \n",
            "Loss: 1.479 | Acc: 47.458% \n",
            "Loss: 1.458 | Acc: 48.313% \n",
            "Accuracy of the network on the test images: 55 %\n",
            "\n",
            "Epoch: 3\n",
            "Loss: 1.588 | Acc: 37.500% \n",
            "Loss: 1.379 | Acc: 51.018% \n",
            "Loss: 1.359 | Acc: 51.890% \n",
            "Loss: 1.346 | Acc: 52.231% \n",
            "Accuracy of the network on the test images: 57 %\n",
            "\n",
            "Epoch: 4\n",
            "Loss: 1.442 | Acc: 50.000% \n",
            "Loss: 1.276 | Acc: 55.220% \n",
            "Loss: 1.267 | Acc: 55.485% \n",
            "Loss: 1.256 | Acc: 55.758% \n",
            "Accuracy of the network on the test images: 65 %\n",
            "\n",
            "Epoch: 5\n",
            "Loss: 1.205 | Acc: 56.250% \n",
            "Loss: 1.203 | Acc: 57.686% \n",
            "Loss: 1.198 | Acc: 57.849% \n",
            "Loss: 1.193 | Acc: 57.991% \n",
            "Accuracy of the network on the test images: 66 %\n",
            "\n",
            "Epoch: 6\n",
            "Loss: 1.526 | Acc: 43.750% \n",
            "Loss: 1.153 | Acc: 59.665% \n",
            "Loss: 1.147 | Acc: 60.001% \n",
            "Loss: 1.137 | Acc: 60.355% \n",
            "Accuracy of the network on the test images: 71 %\n",
            "\n",
            "Epoch: 7\n",
            "Loss: 1.268 | Acc: 56.250% \n",
            "Loss: 1.104 | Acc: 61.070% \n",
            "Loss: 1.099 | Acc: 61.482% \n",
            "Loss: 1.095 | Acc: 61.650% \n",
            "Accuracy of the network on the test images: 73 %\n",
            "\n",
            "Epoch: 8\n",
            "Loss: 0.788 | Acc: 68.750% \n",
            "Loss: 1.048 | Acc: 63.255% \n",
            "Loss: 1.056 | Acc: 62.884% \n",
            "Loss: 1.049 | Acc: 63.116% \n",
            "Accuracy of the network on the test images: 74 %\n",
            "\n",
            "Epoch: 9\n",
            "Loss: 1.424 | Acc: 50.000% \n",
            "Loss: 1.031 | Acc: 64.136% \n",
            "Loss: 1.017 | Acc: 64.505% \n",
            "Loss: 1.016 | Acc: 64.541% \n",
            "Accuracy of the network on the test images: 75 %\n"
          ],
          "name": "stdout"
        }
      ]
    }
  ]
}